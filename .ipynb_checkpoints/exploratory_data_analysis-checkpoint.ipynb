{
 "cells": [
  {
   "cell_type": "markdown",
   "id": "812147e8",
   "metadata": {},
   "source": [
    "## Prerequisites"
   ]
  },
  {
   "cell_type": "code",
   "execution_count": 790,
   "id": "b9e21ef9",
   "metadata": {},
   "outputs": [],
   "source": [
    "# !pip install pandas\n",
    "# !pip install seaborn\n",
    "# !pip install numpy\n",
    "# !pip install regex\n",
    "# !pip install matplotlib\n",
    "# !pip install scipy\n",
    "# !pip install PyEnchant"
   ]
  },
  {
   "cell_type": "markdown",
   "id": "c58ab148",
   "metadata": {},
   "source": [
    "Import the necessary python libraries to do the exploratory data analysis."
   ]
  },
  {
   "cell_type": "code",
   "execution_count": 791,
   "id": "8d70430b",
   "metadata": {},
   "outputs": [],
   "source": [
    "import pandas as pd\n",
    "import seaborn as sns\n",
    "import numpy as np\n",
    "import re\n",
    "import matplotlib.pyplot as plt\n",
    "from scipy import stats\n",
    "import enchant\n",
    "\n",
    "%matplotlib inline\n",
    "\n",
    "plt.style.use('bmh')\n",
    "\n",
    "carroya_df = pd.read_csv('carroya_data.csv')\n",
    "tucarro_df = pd.read_csv('tucarro_data.csv')"
   ]
  },
  {
   "cell_type": "markdown",
   "id": "2dbe5f83",
   "metadata": {},
   "source": [
    "## First glance at the datasets"
   ]
  },
  {
   "cell_type": "markdown",
   "id": "c1958eed",
   "metadata": {},
   "source": [
    "### CarroYa"
   ]
  },
  {
   "cell_type": "code",
   "execution_count": 792,
   "id": "844c14e1",
   "metadata": {},
   "outputs": [
    {
     "data": {
      "text/html": [
       "<div>\n",
       "<style scoped>\n",
       "    .dataframe tbody tr th:only-of-type {\n",
       "        vertical-align: middle;\n",
       "    }\n",
       "\n",
       "    .dataframe tbody tr th {\n",
       "        vertical-align: top;\n",
       "    }\n",
       "\n",
       "    .dataframe thead th {\n",
       "        text-align: right;\n",
       "    }\n",
       "</style>\n",
       "<table border=\"1\" class=\"dataframe\">\n",
       "  <thead>\n",
       "    <tr style=\"text-align: right;\">\n",
       "      <th></th>\n",
       "      <th>Unnamed: 0</th>\n",
       "      <th>NOMBRE</th>\n",
       "      <th>SUBTITULO</th>\n",
       "      <th>PRECIO</th>\n",
       "      <th>PRECIO MENSUAL</th>\n",
       "      <th>KILOMETRAJE</th>\n",
       "      <th>ANIO</th>\n",
       "      <th>TIPO DE CAJA</th>\n",
       "      <th>CILINDRAJE</th>\n",
       "      <th>COMBUSTIBLE</th>\n",
       "      <th>COLOR</th>\n",
       "      <th>ESTADO</th>\n",
       "      <th>UBICACIÓN</th>\n",
       "      <th>DIRECCIÓN</th>\n",
       "      <th>PLACA</th>\n",
       "      <th>PUERTAS</th>\n",
       "      <th>AIRBAGS</th>\n",
       "      <th>IMAGEN</th>\n",
       "    </tr>\n",
       "  </thead>\n",
       "  <tbody>\n",
       "    <tr>\n",
       "      <th>0</th>\n",
       "      <td>0</td>\n",
       "      <td>Mercedes Benz Clase GLA</td>\n",
       "      <td>200 Automatico</td>\n",
       "      <td>$122.900.000</td>\n",
       "      <td>$3.058.891</td>\n",
       "      <td>22.036 km</td>\n",
       "      <td>2020</td>\n",
       "      <td>Secuencial</td>\n",
       "      <td>1.6</td>\n",
       "      <td>Gasolina</td>\n",
       "      <td>Blanco</td>\n",
       "      <td>usado</td>\n",
       "      <td>Bogotá D.C.</td>\n",
       "      <td>NaN</td>\n",
       "      <td>**5 Bogota</td>\n",
       "      <td>NaN</td>\n",
       "      <td>Airbags</td>\n",
       "      <td>https://www.carroya.com/web/images/vehiculos/2...</td>\n",
       "    </tr>\n",
       "    <tr>\n",
       "      <th>1</th>\n",
       "      <td>1</td>\n",
       "      <td>Volkswagen Tiguan</td>\n",
       "      <td>2.0 Comfortline 4MOTION</td>\n",
       "      <td>$99.900.000</td>\n",
       "      <td>$2.486.438</td>\n",
       "      <td>39.024 km</td>\n",
       "      <td>2018</td>\n",
       "      <td>Secuencial</td>\n",
       "      <td>2.0</td>\n",
       "      <td>Gasolina</td>\n",
       "      <td>Otro</td>\n",
       "      <td>usado</td>\n",
       "      <td>Bogotá D.C.</td>\n",
       "      <td>NaN</td>\n",
       "      <td>**6 Bogota</td>\n",
       "      <td>NaN</td>\n",
       "      <td>Airbags</td>\n",
       "      <td>https://www.carroya.com/web/images/vehiculos/2...</td>\n",
       "    </tr>\n",
       "    <tr>\n",
       "      <th>2</th>\n",
       "      <td>2</td>\n",
       "      <td>Jaguar XE</td>\n",
       "      <td>Prestige 2.0 T</td>\n",
       "      <td>$102.900.000</td>\n",
       "      <td>$2.561.105</td>\n",
       "      <td>15.192 km</td>\n",
       "      <td>2017</td>\n",
       "      <td>Secuencial</td>\n",
       "      <td>2.0</td>\n",
       "      <td>Gasolina</td>\n",
       "      <td>Negro</td>\n",
       "      <td>usado</td>\n",
       "      <td>Bogotá D.C.</td>\n",
       "      <td>NaN</td>\n",
       "      <td>**3 Bogota</td>\n",
       "      <td>NaN</td>\n",
       "      <td>Airbags</td>\n",
       "      <td>https://www.carroya.com/web/images/vehiculos/2...</td>\n",
       "    </tr>\n",
       "    <tr>\n",
       "      <th>3</th>\n",
       "      <td>3</td>\n",
       "      <td>Mitsubishi Outlander</td>\n",
       "      <td>Phev</td>\n",
       "      <td>$105.900.000</td>\n",
       "      <td>$2.635.773</td>\n",
       "      <td>46.690 km</td>\n",
       "      <td>2017</td>\n",
       "      <td>Automática</td>\n",
       "      <td>2.0</td>\n",
       "      <td>Híbrido</td>\n",
       "      <td>Gris</td>\n",
       "      <td>usado</td>\n",
       "      <td>Bogotá D.C.</td>\n",
       "      <td>NaN</td>\n",
       "      <td>**8 Bogota</td>\n",
       "      <td>NaN</td>\n",
       "      <td>Airbags</td>\n",
       "      <td>https://www.carroya.com/web/images/vehiculos/2...</td>\n",
       "    </tr>\n",
       "    <tr>\n",
       "      <th>4</th>\n",
       "      <td>4</td>\n",
       "      <td>Mercedes Benz Clase CLA</td>\n",
       "      <td>200</td>\n",
       "      <td>$122.900.000</td>\n",
       "      <td>$3.058.891</td>\n",
       "      <td>22.036 km</td>\n",
       "      <td>2020</td>\n",
       "      <td>Automática</td>\n",
       "      <td>1.6</td>\n",
       "      <td>Gasolina</td>\n",
       "      <td>Blanco</td>\n",
       "      <td>usado</td>\n",
       "      <td>Bogotá D.C.</td>\n",
       "      <td>NaN</td>\n",
       "      <td>**5 Bogota</td>\n",
       "      <td>NaN</td>\n",
       "      <td>Airbags</td>\n",
       "      <td>https://www.carroya.com/web/images/vehiculos/2...</td>\n",
       "    </tr>\n",
       "  </tbody>\n",
       "</table>\n",
       "</div>"
      ],
      "text/plain": [
       "   Unnamed: 0                   NOMBRE                SUBTITULO        PRECIO  \\\n",
       "0           0  Mercedes Benz Clase GLA           200 Automatico  $122.900.000   \n",
       "1           1        Volkswagen Tiguan  2.0 Comfortline 4MOTION   $99.900.000   \n",
       "2           2                Jaguar XE           Prestige 2.0 T  $102.900.000   \n",
       "3           3     Mitsubishi Outlander                     Phev  $105.900.000   \n",
       "4           4  Mercedes Benz Clase CLA                      200  $122.900.000   \n",
       "\n",
       "  PRECIO MENSUAL KILOMETRAJE  ANIO TIPO DE CAJA  CILINDRAJE COMBUSTIBLE  \\\n",
       "0     $3.058.891   22.036 km  2020   Secuencial         1.6    Gasolina   \n",
       "1     $2.486.438   39.024 km  2018   Secuencial         2.0    Gasolina   \n",
       "2     $2.561.105   15.192 km  2017   Secuencial         2.0    Gasolina   \n",
       "3     $2.635.773   46.690 km  2017   Automática         2.0     Híbrido   \n",
       "4     $3.058.891   22.036 km  2020   Automática         1.6    Gasolina   \n",
       "\n",
       "    COLOR ESTADO    UBICACIÓN DIRECCIÓN       PLACA  PUERTAS  AIRBAGS  \\\n",
       "0  Blanco  usado  Bogotá D.C.       NaN  **5 Bogota      NaN  Airbags   \n",
       "1    Otro  usado  Bogotá D.C.       NaN  **6 Bogota      NaN  Airbags   \n",
       "2   Negro  usado  Bogotá D.C.       NaN  **3 Bogota      NaN  Airbags   \n",
       "3    Gris  usado  Bogotá D.C.       NaN  **8 Bogota      NaN  Airbags   \n",
       "4  Blanco  usado  Bogotá D.C.       NaN  **5 Bogota      NaN  Airbags   \n",
       "\n",
       "                                              IMAGEN  \n",
       "0  https://www.carroya.com/web/images/vehiculos/2...  \n",
       "1  https://www.carroya.com/web/images/vehiculos/2...  \n",
       "2  https://www.carroya.com/web/images/vehiculos/2...  \n",
       "3  https://www.carroya.com/web/images/vehiculos/2...  \n",
       "4  https://www.carroya.com/web/images/vehiculos/2...  "
      ]
     },
     "execution_count": 792,
     "metadata": {},
     "output_type": "execute_result"
    }
   ],
   "source": [
    "carroya_df.head()"
   ]
  },
  {
   "cell_type": "code",
   "execution_count": 793,
   "id": "61080fa3",
   "metadata": {
    "scrolled": true
   },
   "outputs": [
    {
     "name": "stdout",
     "output_type": "stream",
     "text": [
      "<class 'pandas.core.frame.DataFrame'>\n",
      "RangeIndex: 10880 entries, 0 to 10879\n",
      "Data columns (total 18 columns):\n",
      " #   Column          Non-Null Count  Dtype  \n",
      "---  ------          --------------  -----  \n",
      " 0   Unnamed: 0      10880 non-null  int64  \n",
      " 1   NOMBRE          10880 non-null  object \n",
      " 2   SUBTITULO       6977 non-null   object \n",
      " 3   PRECIO          10880 non-null  object \n",
      " 4   PRECIO MENSUAL  10880 non-null  object \n",
      " 5   KILOMETRAJE     10880 non-null  object \n",
      " 6   ANIO            10880 non-null  int64  \n",
      " 7   TIPO DE CAJA    10852 non-null  object \n",
      " 8   CILINDRAJE      10880 non-null  float64\n",
      " 9   COMBUSTIBLE     9616 non-null   object \n",
      " 10  COLOR           10787 non-null  object \n",
      " 11  ESTADO          10880 non-null  object \n",
      " 12  UBICACIÓN       10880 non-null  object \n",
      " 13  DIRECCIÓN       7811 non-null   object \n",
      " 14  PLACA           10200 non-null  object \n",
      " 15  PUERTAS         695 non-null    float64\n",
      " 16  AIRBAGS         1923 non-null   object \n",
      " 17  IMAGEN          10880 non-null  object \n",
      "dtypes: float64(2), int64(2), object(14)\n",
      "memory usage: 1.5+ MB\n"
     ]
    }
   ],
   "source": [
    "carroya_df.info()"
   ]
  },
  {
   "cell_type": "markdown",
   "id": "adceb6be",
   "metadata": {},
   "source": [
    "Some numeric columns were identified as object by pandas. CILINDRAJE and PUERTAS that have integers values were misidentified as floating-point values. PRECIO, PRECIO MENSUAL and KILOMETRAJE have undesired characters (\"$\", \"km\", \".\")."
   ]
  },
  {
   "cell_type": "code",
   "execution_count": 794,
   "id": "1f730f6b",
   "metadata": {},
   "outputs": [
    {
     "data": {
      "text/plain": [
       "PUERTAS           10185\n",
       "AIRBAGS            8957\n",
       "SUBTITULO          3903\n",
       "DIRECCIÓN          3069\n",
       "COMBUSTIBLE        1264\n",
       "PLACA               680\n",
       "COLOR                93\n",
       "TIPO DE CAJA         28\n",
       "UBICACIÓN             0\n",
       "ESTADO                0\n",
       "Unnamed: 0            0\n",
       "NOMBRE                0\n",
       "CILINDRAJE            0\n",
       "ANIO                  0\n",
       "KILOMETRAJE           0\n",
       "PRECIO MENSUAL        0\n",
       "PRECIO                0\n",
       "IMAGEN                0\n",
       "dtype: int64"
      ]
     },
     "execution_count": 794,
     "metadata": {},
     "output_type": "execute_result"
    }
   ],
   "source": [
    "carroya_df.isnull().sum().sort_values(ascending = False)"
   ]
  },
  {
   "cell_type": "markdown",
   "id": "453a407c",
   "metadata": {},
   "source": [
    "Some columns such as PUERTAS and AIRBAGS have too many missing values. SUBTITULO and DIRECCIÓN also have a significant amount of NaN values."
   ]
  },
  {
   "cell_type": "markdown",
   "id": "59f33841",
   "metadata": {},
   "source": [
    "### TuCarro"
   ]
  },
  {
   "cell_type": "code",
   "execution_count": 795,
   "id": "3c6aa600",
   "metadata": {},
   "outputs": [
    {
     "data": {
      "text/html": [
       "<div>\n",
       "<style scoped>\n",
       "    .dataframe tbody tr th:only-of-type {\n",
       "        vertical-align: middle;\n",
       "    }\n",
       "\n",
       "    .dataframe tbody tr th {\n",
       "        vertical-align: top;\n",
       "    }\n",
       "\n",
       "    .dataframe thead th {\n",
       "        text-align: right;\n",
       "    }\n",
       "</style>\n",
       "<table border=\"1\" class=\"dataframe\">\n",
       "  <thead>\n",
       "    <tr style=\"text-align: right;\">\n",
       "      <th></th>\n",
       "      <th>Titulo</th>\n",
       "      <th>Marca</th>\n",
       "      <th>Modelo</th>\n",
       "      <th>Ano</th>\n",
       "      <th>Color</th>\n",
       "      <th>Tipo de combustible</th>\n",
       "      <th>Puertas</th>\n",
       "      <th>Transmision</th>\n",
       "      <th>Motor</th>\n",
       "      <th>Tipo de carroceria</th>\n",
       "      <th>Kilometros</th>\n",
       "      <th>Img</th>\n",
       "      <th>Precio</th>\n",
       "    </tr>\n",
       "  </thead>\n",
       "  <tbody>\n",
       "    <tr>\n",
       "      <th>0</th>\n",
       "      <td>Vendo - Automovil Antiguo Dodge Desoto 1938 - ...</td>\n",
       "      <td>Dodge</td>\n",
       "      <td>dodge desoto D8</td>\n",
       "      <td>1938.0</td>\n",
       "      <td>NaN</td>\n",
       "      <td>Gasolina</td>\n",
       "      <td>4.0</td>\n",
       "      <td>Mecánica</td>\n",
       "      <td>NaN</td>\n",
       "      <td>Sedán</td>\n",
       "      <td>100000 km</td>\n",
       "      <td>https://http2.mlstatic.com/D_NQ_NP_646157-MCO4...</td>\n",
       "      <td>70.000.000</td>\n",
       "    </tr>\n",
       "    <tr>\n",
       "      <th>1</th>\n",
       "      <td>Jeep Willys Cj 2a 1946 Cj2a</td>\n",
       "      <td>Jeep</td>\n",
       "      <td>Willys</td>\n",
       "      <td>1946.0</td>\n",
       "      <td>BEIGE BLANCO</td>\n",
       "      <td>Gasolina</td>\n",
       "      <td>2.0</td>\n",
       "      <td>Mecánica</td>\n",
       "      <td>2200</td>\n",
       "      <td>NaN</td>\n",
       "      <td>100000 km</td>\n",
       "      <td>https://http2.mlstatic.com/D_NQ_NP_719379-MCO4...</td>\n",
       "      <td>40.000.000</td>\n",
       "    </tr>\n",
       "    <tr>\n",
       "      <th>2</th>\n",
       "      <td>Jeep Cj3a  Cj3a</td>\n",
       "      <td>Willys</td>\n",
       "      <td>willys Cj3a</td>\n",
       "      <td>1950.0</td>\n",
       "      <td>NaN</td>\n",
       "      <td>Gasolina</td>\n",
       "      <td>3.0</td>\n",
       "      <td>Mecánica</td>\n",
       "      <td>NaN</td>\n",
       "      <td>NaN</td>\n",
       "      <td>123 km</td>\n",
       "      <td>https://http2.mlstatic.com/D_NQ_NP_820535-MCO4...</td>\n",
       "      <td>30.000.000</td>\n",
       "    </tr>\n",
       "    <tr>\n",
       "      <th>3</th>\n",
       "      <td>Jeep Willys  Cj3a</td>\n",
       "      <td>Jeep</td>\n",
       "      <td>Willys</td>\n",
       "      <td>1951.0</td>\n",
       "      <td>NaN</td>\n",
       "      <td>Gasolina</td>\n",
       "      <td>2.0</td>\n",
       "      <td>Mecánica</td>\n",
       "      <td>NaN</td>\n",
       "      <td>NaN</td>\n",
       "      <td>3000 km</td>\n",
       "      <td>https://http2.mlstatic.com/D_NQ_NP_758316-MCO4...</td>\n",
       "      <td>43.000.000</td>\n",
       "    </tr>\n",
       "    <tr>\n",
       "      <th>4</th>\n",
       "      <td>Ford F100</td>\n",
       "      <td>Ford</td>\n",
       "      <td>F-100</td>\n",
       "      <td>1952.0</td>\n",
       "      <td>Gris</td>\n",
       "      <td>Gasolina</td>\n",
       "      <td>2.0</td>\n",
       "      <td>Mecánica</td>\n",
       "      <td>1500</td>\n",
       "      <td>Pick-Up</td>\n",
       "      <td>125000 km</td>\n",
       "      <td>https://http2.mlstatic.com/D_NQ_NP_814571-MCO4...</td>\n",
       "      <td>26.000.000</td>\n",
       "    </tr>\n",
       "  </tbody>\n",
       "</table>\n",
       "</div>"
      ],
      "text/plain": [
       "                                              Titulo   Marca           Modelo  \\\n",
       "0  Vendo - Automovil Antiguo Dodge Desoto 1938 - ...   Dodge  dodge desoto D8   \n",
       "1                        Jeep Willys Cj 2a 1946 Cj2a    Jeep           Willys   \n",
       "2                                    Jeep Cj3a  Cj3a  Willys      willys Cj3a   \n",
       "3                                  Jeep Willys  Cj3a    Jeep           Willys   \n",
       "4                                          Ford F100    Ford            F-100   \n",
       "\n",
       "      Ano         Color Tipo de combustible  Puertas Transmision Motor  \\\n",
       "0  1938.0           NaN            Gasolina      4.0    Mecánica   NaN   \n",
       "1  1946.0  BEIGE BLANCO            Gasolina      2.0    Mecánica  2200   \n",
       "2  1950.0           NaN            Gasolina      3.0    Mecánica   NaN   \n",
       "3  1951.0           NaN            Gasolina      2.0    Mecánica   NaN   \n",
       "4  1952.0          Gris            Gasolina      2.0    Mecánica  1500   \n",
       "\n",
       "  Tipo de carroceria Kilometros  \\\n",
       "0              Sedán  100000 km   \n",
       "1                NaN  100000 km   \n",
       "2                NaN     123 km   \n",
       "3                NaN    3000 km   \n",
       "4            Pick-Up  125000 km   \n",
       "\n",
       "                                                 Img      Precio  \n",
       "0  https://http2.mlstatic.com/D_NQ_NP_646157-MCO4...  70.000.000  \n",
       "1  https://http2.mlstatic.com/D_NQ_NP_719379-MCO4...  40.000.000  \n",
       "2  https://http2.mlstatic.com/D_NQ_NP_820535-MCO4...  30.000.000  \n",
       "3  https://http2.mlstatic.com/D_NQ_NP_758316-MCO4...  43.000.000  \n",
       "4  https://http2.mlstatic.com/D_NQ_NP_814571-MCO4...  26.000.000  "
      ]
     },
     "execution_count": 795,
     "metadata": {},
     "output_type": "execute_result"
    }
   ],
   "source": [
    "tucarro_df.head()"
   ]
  },
  {
   "cell_type": "code",
   "execution_count": 796,
   "id": "6558301f",
   "metadata": {},
   "outputs": [
    {
     "name": "stdout",
     "output_type": "stream",
     "text": [
      "<class 'pandas.core.frame.DataFrame'>\n",
      "RangeIndex: 26829 entries, 0 to 26828\n",
      "Data columns (total 13 columns):\n",
      " #   Column               Non-Null Count  Dtype  \n",
      "---  ------               --------------  -----  \n",
      " 0   Titulo               26827 non-null  object \n",
      " 1   Marca                26778 non-null  object \n",
      " 2   Modelo               26778 non-null  object \n",
      " 3   Ano                  26778 non-null  float64\n",
      " 4   Color                16518 non-null  object \n",
      " 5   Tipo de combustible  26773 non-null  object \n",
      " 6   Puertas              26656 non-null  float64\n",
      " 7   Transmision          26778 non-null  object \n",
      " 8   Motor                22628 non-null  object \n",
      " 9   Tipo de carroceria   22521 non-null  object \n",
      " 10  Kilometros           26777 non-null  object \n",
      " 11  Img                  26827 non-null  object \n",
      " 12  Precio               26827 non-null  object \n",
      "dtypes: float64(2), object(11)\n",
      "memory usage: 2.7+ MB\n"
     ]
    }
   ],
   "source": [
    "tucarro_df.info()"
   ]
  },
  {
   "cell_type": "markdown",
   "id": "79c4f242",
   "metadata": {},
   "source": [
    "Ano y Puertas that have integers values were recognized as floating-point values by pandas. Kilometros have undesired characters (\"km\", \".\")."
   ]
  },
  {
   "cell_type": "code",
   "execution_count": 797,
   "id": "a6a3d71f",
   "metadata": {},
   "outputs": [
    {
     "data": {
      "text/plain": [
       "Color                  10311\n",
       "Tipo de carroceria      4308\n",
       "Motor                   4201\n",
       "Puertas                  173\n",
       "Tipo de combustible       56\n",
       "Kilometros                52\n",
       "Marca                     51\n",
       "Modelo                    51\n",
       "Ano                       51\n",
       "Transmision               51\n",
       "Titulo                     2\n",
       "Img                        2\n",
       "Precio                     2\n",
       "dtype: int64"
      ]
     },
     "execution_count": 797,
     "metadata": {},
     "output_type": "execute_result"
    }
   ],
   "source": [
    "tucarro_df.isnull().sum().sort_values(ascending = False)"
   ]
  },
  {
   "cell_type": "markdown",
   "id": "4afb4cc4",
   "metadata": {},
   "source": [
    "Color have too many NaN values, Tipo de carrroceria and Motor also have a significant amout of missing values. Precio is missing 2 values, probably we're going to drop that rows."
   ]
  },
  {
   "cell_type": "markdown",
   "id": "25285f88",
   "metadata": {},
   "source": [
    "## Joining the datasets"
   ]
  },
  {
   "cell_type": "code",
   "execution_count": 798,
   "id": "faddbf29",
   "metadata": {},
   "outputs": [],
   "source": [
    "def get_marca(data):\n",
    "    arr = data.split(' ')\n",
    "    if arr[0] == 'Mercedes':\n",
    "        return \" \".join(arr[:2])\n",
    "    else:\n",
    "        return \" \".join(arr[:1])\n",
    "    \n",
    "def get_modelo(data):\n",
    "    arr = data.split(' ')\n",
    "    if arr[0] == 'Mercedes':\n",
    "        return \" \".join(arr[2:])\n",
    "    else:\n",
    "        return \" \".join(arr[1:])\n",
    "    \n",
    "carroya_df['Marca'] = carroya_df['NOMBRE'].apply(get_marca)\n",
    "carroya_df['Modelo'] = carroya_df['NOMBRE'].apply(get_modelo)\n",
    "carroya_df = carroya_df.rename(columns = {'PRECIO' : 'Precio', 'TIPO DE CAJA' : 'Transmision',\n",
    "                                          'ANIO' : 'Anio', 'COMBUSTIBLE' : 'Tipo de combustible',\n",
    "                                         'KILOMETRAJE' : 'Kilometros', 'IMAGEN' : 'Img', \n",
    "                                         'COLOR' : 'Color', 'PUERTAS' : 'Puertas',\n",
    "                                          'CILINDRAJE' : 'Motor'})\n",
    "carroya_df['Titulo'] = carroya_df['NOMBRE'] + ' ' + carroya_df['SUBTITULO'].fillna('')\n",
    "carroya_df = carroya_df.drop(columns = ['NOMBRE', 'SUBTITULO', 'PRECIO MENSUAL', 'ESTADO',\n",
    "                                        'UBICACIÓN', 'DIRECCIÓN', 'PLACA', 'AIRBAGS',\n",
    "                                        'Unnamed: 0'])\n",
    "tucarro_df = tucarro_df.rename(columns = {'Ano' : 'Anio'})\n",
    "cols = ['Titulo','Marca', 'Modelo', 'Precio', 'Anio', 'Kilometros', 'Color', 'Transmision',\n",
    "        'Tipo de combustible','Tipo de carroceria', 'Motor', 'Puertas', 'Img']\n",
    "tucarro_df = tucarro_df[cols]"
   ]
  },
  {
   "cell_type": "code",
   "execution_count": 799,
   "id": "650bc8f2",
   "metadata": {},
   "outputs": [],
   "source": [
    "df = pd.concat([tucarro_df, carroya_df], ignore_index = True, axis = 0)\n",
    "df = df.reset_index(drop = True)"
   ]
  },
  {
   "cell_type": "code",
   "execution_count": 800,
   "id": "5e904456",
   "metadata": {},
   "outputs": [
    {
     "name": "stdout",
     "output_type": "stream",
     "text": [
      "<class 'pandas.core.frame.DataFrame'>\n",
      "RangeIndex: 37709 entries, 0 to 37708\n",
      "Data columns (total 13 columns):\n",
      " #   Column               Non-Null Count  Dtype  \n",
      "---  ------               --------------  -----  \n",
      " 0   Titulo               37707 non-null  object \n",
      " 1   Marca                37658 non-null  object \n",
      " 2   Modelo               37658 non-null  object \n",
      " 3   Precio               37707 non-null  object \n",
      " 4   Anio                 37658 non-null  float64\n",
      " 5   Kilometros           37657 non-null  object \n",
      " 6   Color                27305 non-null  object \n",
      " 7   Transmision          37630 non-null  object \n",
      " 8   Tipo de combustible  36389 non-null  object \n",
      " 9   Tipo de carroceria   22521 non-null  object \n",
      " 10  Motor                33508 non-null  object \n",
      " 11  Puertas              27351 non-null  float64\n",
      " 12  Img                  37707 non-null  object \n",
      "dtypes: float64(2), object(11)\n",
      "memory usage: 3.7+ MB\n"
     ]
    }
   ],
   "source": [
    "df.info()"
   ]
  },
  {
   "cell_type": "code",
   "execution_count": 801,
   "id": "9b2e8c1a",
   "metadata": {
    "scrolled": false
   },
   "outputs": [
    {
     "data": {
      "text/html": [
       "<div>\n",
       "<style scoped>\n",
       "    .dataframe tbody tr th:only-of-type {\n",
       "        vertical-align: middle;\n",
       "    }\n",
       "\n",
       "    .dataframe tbody tr th {\n",
       "        vertical-align: top;\n",
       "    }\n",
       "\n",
       "    .dataframe thead th {\n",
       "        text-align: right;\n",
       "    }\n",
       "</style>\n",
       "<table border=\"1\" class=\"dataframe\">\n",
       "  <thead>\n",
       "    <tr style=\"text-align: right;\">\n",
       "      <th></th>\n",
       "      <th>Titulo</th>\n",
       "      <th>Marca</th>\n",
       "      <th>Modelo</th>\n",
       "      <th>Precio</th>\n",
       "      <th>Anio</th>\n",
       "      <th>Kilometros</th>\n",
       "      <th>Color</th>\n",
       "      <th>Transmision</th>\n",
       "      <th>Tipo de combustible</th>\n",
       "      <th>Tipo de carroceria</th>\n",
       "      <th>Motor</th>\n",
       "      <th>Puertas</th>\n",
       "      <th>Img</th>\n",
       "    </tr>\n",
       "  </thead>\n",
       "  <tbody>\n",
       "    <tr>\n",
       "      <th>0</th>\n",
       "      <td>Vendo - Automovil Antiguo Dodge Desoto 1938 - ...</td>\n",
       "      <td>Dodge</td>\n",
       "      <td>dodge desoto D8</td>\n",
       "      <td>70.000.000</td>\n",
       "      <td>1938.0</td>\n",
       "      <td>100000 km</td>\n",
       "      <td>NaN</td>\n",
       "      <td>Mecánica</td>\n",
       "      <td>Gasolina</td>\n",
       "      <td>Sedán</td>\n",
       "      <td>NaN</td>\n",
       "      <td>4.0</td>\n",
       "      <td>https://http2.mlstatic.com/D_NQ_NP_646157-MCO4...</td>\n",
       "    </tr>\n",
       "    <tr>\n",
       "      <th>1</th>\n",
       "      <td>Jeep Willys Cj 2a 1946 Cj2a</td>\n",
       "      <td>Jeep</td>\n",
       "      <td>Willys</td>\n",
       "      <td>40.000.000</td>\n",
       "      <td>1946.0</td>\n",
       "      <td>100000 km</td>\n",
       "      <td>BEIGE BLANCO</td>\n",
       "      <td>Mecánica</td>\n",
       "      <td>Gasolina</td>\n",
       "      <td>NaN</td>\n",
       "      <td>2200</td>\n",
       "      <td>2.0</td>\n",
       "      <td>https://http2.mlstatic.com/D_NQ_NP_719379-MCO4...</td>\n",
       "    </tr>\n",
       "    <tr>\n",
       "      <th>2</th>\n",
       "      <td>Jeep Cj3a  Cj3a</td>\n",
       "      <td>Willys</td>\n",
       "      <td>willys Cj3a</td>\n",
       "      <td>30.000.000</td>\n",
       "      <td>1950.0</td>\n",
       "      <td>123 km</td>\n",
       "      <td>NaN</td>\n",
       "      <td>Mecánica</td>\n",
       "      <td>Gasolina</td>\n",
       "      <td>NaN</td>\n",
       "      <td>NaN</td>\n",
       "      <td>3.0</td>\n",
       "      <td>https://http2.mlstatic.com/D_NQ_NP_820535-MCO4...</td>\n",
       "    </tr>\n",
       "    <tr>\n",
       "      <th>3</th>\n",
       "      <td>Jeep Willys  Cj3a</td>\n",
       "      <td>Jeep</td>\n",
       "      <td>Willys</td>\n",
       "      <td>43.000.000</td>\n",
       "      <td>1951.0</td>\n",
       "      <td>3000 km</td>\n",
       "      <td>NaN</td>\n",
       "      <td>Mecánica</td>\n",
       "      <td>Gasolina</td>\n",
       "      <td>NaN</td>\n",
       "      <td>NaN</td>\n",
       "      <td>2.0</td>\n",
       "      <td>https://http2.mlstatic.com/D_NQ_NP_758316-MCO4...</td>\n",
       "    </tr>\n",
       "    <tr>\n",
       "      <th>4</th>\n",
       "      <td>Ford F100</td>\n",
       "      <td>Ford</td>\n",
       "      <td>F-100</td>\n",
       "      <td>26.000.000</td>\n",
       "      <td>1952.0</td>\n",
       "      <td>125000 km</td>\n",
       "      <td>Gris</td>\n",
       "      <td>Mecánica</td>\n",
       "      <td>Gasolina</td>\n",
       "      <td>Pick-Up</td>\n",
       "      <td>1500</td>\n",
       "      <td>2.0</td>\n",
       "      <td>https://http2.mlstatic.com/D_NQ_NP_814571-MCO4...</td>\n",
       "    </tr>\n",
       "  </tbody>\n",
       "</table>\n",
       "</div>"
      ],
      "text/plain": [
       "                                              Titulo   Marca           Modelo  \\\n",
       "0  Vendo - Automovil Antiguo Dodge Desoto 1938 - ...   Dodge  dodge desoto D8   \n",
       "1                        Jeep Willys Cj 2a 1946 Cj2a    Jeep           Willys   \n",
       "2                                    Jeep Cj3a  Cj3a  Willys      willys Cj3a   \n",
       "3                                  Jeep Willys  Cj3a    Jeep           Willys   \n",
       "4                                          Ford F100    Ford            F-100   \n",
       "\n",
       "       Precio    Anio Kilometros         Color Transmision  \\\n",
       "0  70.000.000  1938.0  100000 km           NaN    Mecánica   \n",
       "1  40.000.000  1946.0  100000 km  BEIGE BLANCO    Mecánica   \n",
       "2  30.000.000  1950.0     123 km           NaN    Mecánica   \n",
       "3  43.000.000  1951.0    3000 km           NaN    Mecánica   \n",
       "4  26.000.000  1952.0  125000 km          Gris    Mecánica   \n",
       "\n",
       "  Tipo de combustible Tipo de carroceria Motor  Puertas  \\\n",
       "0            Gasolina              Sedán   NaN      4.0   \n",
       "1            Gasolina                NaN  2200      2.0   \n",
       "2            Gasolina                NaN   NaN      3.0   \n",
       "3            Gasolina                NaN   NaN      2.0   \n",
       "4            Gasolina            Pick-Up  1500      2.0   \n",
       "\n",
       "                                                 Img  \n",
       "0  https://http2.mlstatic.com/D_NQ_NP_646157-MCO4...  \n",
       "1  https://http2.mlstatic.com/D_NQ_NP_719379-MCO4...  \n",
       "2  https://http2.mlstatic.com/D_NQ_NP_820535-MCO4...  \n",
       "3  https://http2.mlstatic.com/D_NQ_NP_758316-MCO4...  \n",
       "4  https://http2.mlstatic.com/D_NQ_NP_814571-MCO4...  "
      ]
     },
     "execution_count": 801,
     "metadata": {},
     "output_type": "execute_result"
    }
   ],
   "source": [
    "df.head()"
   ]
  },
  {
   "cell_type": "code",
   "execution_count": 802,
   "id": "9c65732b",
   "metadata": {},
   "outputs": [
    {
     "data": {
      "text/html": [
       "<div>\n",
       "<style scoped>\n",
       "    .dataframe tbody tr th:only-of-type {\n",
       "        vertical-align: middle;\n",
       "    }\n",
       "\n",
       "    .dataframe tbody tr th {\n",
       "        vertical-align: top;\n",
       "    }\n",
       "\n",
       "    .dataframe thead th {\n",
       "        text-align: right;\n",
       "    }\n",
       "</style>\n",
       "<table border=\"1\" class=\"dataframe\">\n",
       "  <thead>\n",
       "    <tr style=\"text-align: right;\">\n",
       "      <th></th>\n",
       "      <th>Titulo</th>\n",
       "      <th>Marca</th>\n",
       "      <th>Modelo</th>\n",
       "      <th>Precio</th>\n",
       "      <th>Anio</th>\n",
       "      <th>Kilometros</th>\n",
       "      <th>Color</th>\n",
       "      <th>Transmision</th>\n",
       "      <th>Tipo de combustible</th>\n",
       "      <th>Tipo de carroceria</th>\n",
       "      <th>Motor</th>\n",
       "      <th>Puertas</th>\n",
       "      <th>Img</th>\n",
       "    </tr>\n",
       "  </thead>\n",
       "  <tbody>\n",
       "    <tr>\n",
       "      <th>37704</th>\n",
       "      <td>Toyota Starlet</td>\n",
       "      <td>Toyota</td>\n",
       "      <td>Starlet</td>\n",
       "      <td>$16.000.000</td>\n",
       "      <td>1999.0</td>\n",
       "      <td>16.000 km</td>\n",
       "      <td>No Disponible</td>\n",
       "      <td>0</td>\n",
       "      <td>NaN</td>\n",
       "      <td>NaN</td>\n",
       "      <td>0.0</td>\n",
       "      <td>NaN</td>\n",
       "      <td>/static/media/cy_img_nodisponible@3x.48afd719.jpg</td>\n",
       "    </tr>\n",
       "    <tr>\n",
       "      <th>37705</th>\n",
       "      <td>Dodge Caravan</td>\n",
       "      <td>Dodge</td>\n",
       "      <td>Caravan</td>\n",
       "      <td>$89.000.000</td>\n",
       "      <td>2019.0</td>\n",
       "      <td>16.000 km</td>\n",
       "      <td>No Disponible</td>\n",
       "      <td>0</td>\n",
       "      <td>NaN</td>\n",
       "      <td>NaN</td>\n",
       "      <td>0.0</td>\n",
       "      <td>NaN</td>\n",
       "      <td>/static/media/cy_img_nodisponible@3x.48afd719.jpg</td>\n",
       "    </tr>\n",
       "    <tr>\n",
       "      <th>37706</th>\n",
       "      <td>Mitsubishi Lancer</td>\n",
       "      <td>Mitsubishi</td>\n",
       "      <td>Lancer</td>\n",
       "      <td>$30.000.000</td>\n",
       "      <td>2005.0</td>\n",
       "      <td>1.600.000 km</td>\n",
       "      <td>No Disponible</td>\n",
       "      <td>0</td>\n",
       "      <td>NaN</td>\n",
       "      <td>NaN</td>\n",
       "      <td>0.0</td>\n",
       "      <td>NaN</td>\n",
       "      <td>/static/media/cy_img_nodisponible@3x.48afd719.jpg</td>\n",
       "    </tr>\n",
       "    <tr>\n",
       "      <th>37707</th>\n",
       "      <td>JEEP Commander</td>\n",
       "      <td>JEEP</td>\n",
       "      <td>Commander</td>\n",
       "      <td>$135.000.000</td>\n",
       "      <td>2019.0</td>\n",
       "      <td>20.000 km</td>\n",
       "      <td>No Disponible</td>\n",
       "      <td>0</td>\n",
       "      <td>NaN</td>\n",
       "      <td>NaN</td>\n",
       "      <td>0.0</td>\n",
       "      <td>NaN</td>\n",
       "      <td>/static/media/cy_img_nodisponible@3x.48afd719.jpg</td>\n",
       "    </tr>\n",
       "    <tr>\n",
       "      <th>37708</th>\n",
       "      <td>Dodge Dart</td>\n",
       "      <td>Dodge</td>\n",
       "      <td>Dart</td>\n",
       "      <td>$20.000.000</td>\n",
       "      <td>2019.0</td>\n",
       "      <td>25.000 km</td>\n",
       "      <td>No Disponible</td>\n",
       "      <td>0</td>\n",
       "      <td>NaN</td>\n",
       "      <td>NaN</td>\n",
       "      <td>0.0</td>\n",
       "      <td>NaN</td>\n",
       "      <td>/static/media/cy_img_nodisponible@3x.48afd719.jpg</td>\n",
       "    </tr>\n",
       "  </tbody>\n",
       "</table>\n",
       "</div>"
      ],
      "text/plain": [
       "                   Titulo       Marca     Modelo        Precio    Anio  \\\n",
       "37704     Toyota Starlet       Toyota    Starlet   $16.000.000  1999.0   \n",
       "37705      Dodge Caravan        Dodge    Caravan   $89.000.000  2019.0   \n",
       "37706  Mitsubishi Lancer   Mitsubishi     Lancer   $30.000.000  2005.0   \n",
       "37707     JEEP Commander         JEEP  Commander  $135.000.000  2019.0   \n",
       "37708         Dodge Dart        Dodge       Dart   $20.000.000  2019.0   \n",
       "\n",
       "         Kilometros          Color Transmision Tipo de combustible  \\\n",
       "37704     16.000 km  No Disponible           0                 NaN   \n",
       "37705     16.000 km  No Disponible           0                 NaN   \n",
       "37706  1.600.000 km  No Disponible           0                 NaN   \n",
       "37707     20.000 km  No Disponible           0                 NaN   \n",
       "37708     25.000 km  No Disponible           0                 NaN   \n",
       "\n",
       "      Tipo de carroceria Motor  Puertas  \\\n",
       "37704                NaN   0.0      NaN   \n",
       "37705                NaN   0.0      NaN   \n",
       "37706                NaN   0.0      NaN   \n",
       "37707                NaN   0.0      NaN   \n",
       "37708                NaN   0.0      NaN   \n",
       "\n",
       "                                                     Img  \n",
       "37704  /static/media/cy_img_nodisponible@3x.48afd719.jpg  \n",
       "37705  /static/media/cy_img_nodisponible@3x.48afd719.jpg  \n",
       "37706  /static/media/cy_img_nodisponible@3x.48afd719.jpg  \n",
       "37707  /static/media/cy_img_nodisponible@3x.48afd719.jpg  \n",
       "37708  /static/media/cy_img_nodisponible@3x.48afd719.jpg  "
      ]
     },
     "execution_count": 802,
     "metadata": {},
     "output_type": "execute_result"
    }
   ],
   "source": [
    "df.tail()"
   ]
  },
  {
   "cell_type": "markdown",
   "id": "951f1c76",
   "metadata": {},
   "source": [
    "Now the datasets are joined, but still have NaN values, misidentified Dtypes and unwanted characters in some columns."
   ]
  },
  {
   "cell_type": "markdown",
   "id": "0da9a096",
   "metadata": {},
   "source": [
    "## Data cleaning"
   ]
  },
  {
   "cell_type": "markdown",
   "id": "5e2bddc3",
   "metadata": {},
   "source": [
    "### Numerical variables"
   ]
  },
  {
   "cell_type": "code",
   "execution_count": 803,
   "id": "9b2ce0b0",
   "metadata": {},
   "outputs": [],
   "source": [
    "def clean_int(column, pattern, df):\n",
    "    df[column] = df[column].replace(pattern, '', regex = True).astype(np.int64)\n",
    "\n",
    "def clean_puerta(door):\n",
    "    if pd.isna(door):\n",
    "        door = 4\n",
    "    return door\n",
    "\n",
    "def get_number(number):\n",
    "    if len(number) == 1:\n",
    "        if int(number) > 7:\n",
    "            number += '00'\n",
    "        else:\n",
    "            number += '000'\n",
    "    elif len(number) == 2:\n",
    "        number += '00'\n",
    "    elif len(number) == 3:\n",
    "        if int(number) < 700:\n",
    "            number += '0'\n",
    "    elif len(number) > 4:\n",
    "        number = number[:4]\n",
    "    return number\n",
    "\n",
    "def clean_cilindraje(cilindraje):\n",
    "    if cilindraje == '0.0':\n",
    "        number = np.NaN\n",
    "    else:\n",
    "        number = re.sub('[\\.]', '', cilindraje)\n",
    "        number = get_number(number)\n",
    "    return number\n",
    "\n",
    "def clean_motor(motor):\n",
    "    if motor == '0.0':\n",
    "        number = np.NaN\n",
    "    else:\n",
    "        numbers = re.findall(r'[-+]?\\d*\\.\\d+|\\d+', motor)\n",
    "        if len(numbers) > 0:\n",
    "            if len(numbers) == 2:\n",
    "                number = numbers[0] if float(numbers[0]) > float(numbers[1]) else numbers[1]\n",
    "                number = re.sub('[\\.]', '', number)\n",
    "            else:\n",
    "                number = re.sub('[\\.]', '', numbers[0])\n",
    "            number = get_number(number)\n",
    "        else:\n",
    "            number = np.NaN\n",
    "        return number"
   ]
  },
  {
   "cell_type": "markdown",
   "id": "90da8271",
   "metadata": {},
   "source": [
    "Since we have NaN in important columns such as Precio, Marca, Modelo y Kilometros, and are less than 150 rows, which only represents 0.3% of the data, we're going to drop them."
   ]
  },
  {
   "cell_type": "code",
   "execution_count": 804,
   "id": "1f1a182a",
   "metadata": {},
   "outputs": [],
   "source": [
    "df = df[df['Kilometros'].notna()]"
   ]
  },
  {
   "cell_type": "code",
   "execution_count": 805,
   "id": "ddf4477e",
   "metadata": {},
   "outputs": [],
   "source": [
    "clean_int('Precio', '[.$]', df) \n",
    "clean_int('Kilometros', '[km.]', df)\n",
    "df['Motor'] = df['Motor'].astype(str)\n",
    "df['Motor'] = df['Motor'].apply(clean_motor)\n",
    "df['Motor'] = df['Motor'].astype('float').astype('Int64')\n",
    "df['Puertas'] = df['Puertas'].astype('Int64')\n",
    "df['Puertas'] = df['Puertas'].fillna(4)\n",
    "df['Anio'] = df['Anio'].astype(int)"
   ]
  },
  {
   "cell_type": "markdown",
   "id": "50019fec",
   "metadata": {},
   "source": [
    "### Categorical variables"
   ]
  },
  {
   "cell_type": "code",
   "execution_count": 806,
   "id": "6d0d10db",
   "metadata": {},
   "outputs": [],
   "source": [
    "def clean_marca(marca):\n",
    "    marca_list = marca.split()\n",
    "    marca_temp = marca_list[0]\n",
    "    marca_temp = marca_temp.title()\n",
    "    suggest = pwl.suggest(marca_temp)\n",
    "    if suggest and marca_temp != 'Land' and marca != 'Land':\n",
    "        marca = suggest[0]\n",
    "    elif len(marca_list) > 1:\n",
    "        marca_temp = marca_temp + ' ' + marca_list[1].title()\n",
    "        suggest = pwl.suggest(marca_temp)\n",
    "        if suggest:\n",
    "            marca = suggest[0]\n",
    "    elif marca == 'Land':\n",
    "        marca = 'Land Rover'\n",
    "    return marca\n",
    "\n",
    "def clean_modelo(modelo):\n",
    "    suggest = pwl.suggest(modelo)\n",
    "    temp_modelo = modelo\n",
    "    if suggest:\n",
    "        modelo = suggest[0]\n",
    "        print(temp_modelo + '-->' + modelo)\n",
    "    else:\n",
    "        print(modelo)\n",
    "    return modelo\n",
    "\n",
    "def clean_color(color):\n",
    "    temp_color = color\n",
    "    color_list = color.split()\n",
    "    suggest = pwl.suggest(color_list[0].title())\n",
    "    if suggest and color.upper() != 'NO DISPONIBLE' and color.upper() != 'OTRO':\n",
    "        color = suggest[0]\n",
    "        #print(temp_color + ' --> ' + color)\n",
    "    elif len(color_list) > 1 and color.upper() != 'NO DISPONIBLE' and color.upper() != 'OTRO':\n",
    "        suggest = pwl.suggest(color_list[1].title())\n",
    "        if suggest:\n",
    "            color = suggest[0]\n",
    "        #print(temp_color + ' --> ' + color)\n",
    "    #else:\n",
    "        #print(color)\n",
    "    return color\n",
    "\n",
    "def write_models():\n",
    "    file = open('models.txt','w')\n",
    "    for model in models:\n",
    "        file.write(model + '\\n')\n",
    "    file.close()"
   ]
  },
  {
   "cell_type": "markdown",
   "id": "646dd8f2",
   "metadata": {},
   "source": [
    "#### Marca"
   ]
  },
  {
   "cell_type": "code",
   "execution_count": 807,
   "id": "b40640eb",
   "metadata": {
    "scrolled": false
   },
   "outputs": [
    {
     "data": {
      "text/plain": [
       "array(['Dodge', 'Jeep', 'Willys', 'Ford', 'Volkswagen', 'Chevrolet',\n",
       "       'Mercury', 'Toyota', 'Land Rover', 'FARGO 60', 'wolswagen',\n",
       "       'Jeep Willys', 'Mercedes-Benz', 'Nissan', 'Renault', 'Daihatsu',\n",
       "       'Fiat', 'DAHIATSU', 'BMW', 'Lada', 'Suzuki', 'Aro',\n",
       "       'Willys Servicio Publ', 'Kia', 'Honda', 'Subaru', 'Porsche',\n",
       "       'Mitsubishi', 'Volkswagen Mk1 turbo', 'Volvo', 'Renault 4 R4',\n",
       "       'Mazda', 'Acura', 'SPRINT NEGRO', 'Tyota', 'Oldsmobile', 'Mini',\n",
       "       'Hyundai', 'Daewoo', 'Dacia', 'Cadillac', 'Peugeot', 'Skoda',\n",
       "       'Audi', 'Citroën', 'Mitsubishi 7 puestos', 'Baic', 'Chrysler',\n",
       "       'Alfa Romeo', 'Nissan D 21', 'Plymouth', 'Sprint', 'Iveco', 'SEAT',\n",
       "       'Dahiatsu', 'Lexus', 'General', 'Ssangyong', 'Pontiac',\n",
       "       'Gran cherokee límite', 'Huinday accent', 'Rover', 'Camioneta luv',\n",
       "       'volskwagen', 'GMC', 'honda civic',\n",
       "       'Toyota Land Cruiser 4.7 Vxr Uzj100', 'NPR', 'Tata', 'Mazda323',\n",
       "       'Hummer', 'Maserati', 'CitroÃ«n', 'Ssanyong',\n",
       "       'Camioneta KIA PREGIO', 'Camion Mercedes benz', 'Eskoda', 'Hafei',\n",
       "       'HIUNDAY', 'D-MAX', 'Foton', 'hyunday', 'jeep cherokee sport',\n",
       "       'Yahiling rodeo', 'DFM/DFSK', 'Zhongxing', 'Chevrolet dmax',\n",
       "       'Bmw serie 3', 'Aveo GT', 'Mazda 3', 'Wuling', 'Chery',\n",
       "       'VENDO PERMUTO BMW', 'Zotye', 'Jinbei', 'Aveo Gt', 'SAIC WULING',\n",
       "       'Great Wall', 'Bmw 530 i serie 5', 'HYUNDAY', 'Lifan',\n",
       "       'Wolkwanguen', 'Gonow', 'Geely', 'PORSCHE BOXSTER S 3', 'RAM',\n",
       "       'mazda 2', 'Chevrolet Optra', 'Chana', 'Hiunday', 'Renault clio',\n",
       "       'JAC', 'BYD', 'SUSUKI', 'BMW X1 xdrive 25i', 'kia pregio',\n",
       "       'haffei rubyi', 'MG', 'Mahindra',\n",
       "       'Ford F 150 Raptor At Sec Cc 6.2 Blindaje 3', 'JMC', 'Brilliance',\n",
       "       'FORD ECOSPORT', 'Changhe', 'Cherry por crom', 'Kia picanto',\n",
       "       'Hiundai', 'Joylong', 'Dfac', 'Mercedes', 'HONDA FIT 1.4', 'JBC',\n",
       "       'Haval', 'Haval 5 2014', 'Jaguar', 'Dodge RAM',\n",
       "       'Mercedes-Benz  E200', 'ninguna', 'Kia.', 'Changan',\n",
       "       'Para montero y prado', 'Camioneta Dong Feng', 'Toyota Fortuner',\n",
       "       'SPARK GT', 'CHEVROLEY', 'Faw', 'Nissan march', 'chevorlet', 'DS',\n",
       "       'Mercedes Benz E200', 'renautl', 'RENAULT-DUSTER', 'Logan',\n",
       "       'Suzuki gran vitara', 'MAZDA SEDAN', 'Lincoln', 'Kia new sportage',\n",
       "       'Chevrolet spark gt', 'RENAULT DUSTER OROCH', 'can am', 'Infiniti',\n",
       "       'Toyota LC78', 'Jeep Cherokee cc', 'Renault duster', 'OTRO',\n",
       "       'Karry', 'Golden Dragon XML', 'Duster', 'Polaris RZR', 'Mobi',\n",
       "       'Tesla', 'Mazda cx30', 'RAM 1500 DT', 'TOYOTA PRADO TXL',\n",
       "       'Chnagan', 'Logan life', 'Mercedes Benz', 'KIA', 'JEEP', 'Land',\n",
       "       'AUDI', 'Great', 'DFSK', 'Citroen', 'Ample', 'Asia', 'Alfa',\n",
       "       'Ferrari', 'ZNA', 'Buick', 'Bugatti', 'BAIC', 'Haima', 'Aston',\n",
       "       'Smart', 'FAW', 'Soueast', 'ZX', 'Volga', 'Dongfeng', 'Zastava',\n",
       "       'Singer', 'Austin'], dtype=object)"
      ]
     },
     "execution_count": 807,
     "metadata": {},
     "output_type": "execute_result"
    }
   ],
   "source": [
    "df['Marca'].unique()"
   ]
  },
  {
   "cell_type": "code",
   "execution_count": 808,
   "id": "91ab9946",
   "metadata": {},
   "outputs": [
    {
     "name": "stdout",
     "output_type": "stream",
     "text": [
      "203\n"
     ]
    }
   ],
   "source": [
    "print(len(df['Marca'].unique()))"
   ]
  },
  {
   "cell_type": "code",
   "execution_count": 809,
   "id": "1e9a5038",
   "metadata": {
    "scrolled": true
   },
   "outputs": [
    {
     "data": {
      "text/plain": [
       "Chevrolet        5307\n",
       "Renault          4117\n",
       "Ford             2911\n",
       "Toyota           2845\n",
       "Mazda            2590\n",
       "Nissan           2586\n",
       "Kia              2225\n",
       "Volkswagen       2076\n",
       "Mercedes-Benz    1883\n",
       "BMW              1803\n",
       "Hyundai          1240\n",
       "Audi              817\n",
       "Suzuki            757\n",
       "Mitsubishi        618\n",
       "Jeep              556\n",
       "Honda             519\n",
       "Dodge             510\n",
       "Peugeot           467\n",
       "Volvo             350\n",
       "Ssangyong         278\n",
       "Fiat              247\n",
       "Citroen           247\n",
       "Mini              245\n",
       "Land Rover        219\n",
       "Subaru            217\n",
       "Chery             212\n",
       "Porsche           161\n",
       "Seat              157\n",
       "Skoda             120\n",
       "Daihatsu          112\n",
       "Acura             108\n",
       "Jaguar            105\n",
       "JBC                99\n",
       "Daewoo             85\n",
       "DFM/DFSK           77\n",
       "Lexus              77\n",
       "Changan            66\n",
       "Foton              59\n",
       "DS                 45\n",
       "MG                 43\n",
       "Alpina             41\n",
       "Baic               33\n",
       "Zotye              30\n",
       "RAM                29\n",
       "Hafei              28\n",
       "JMC                28\n",
       "BYD                25\n",
       "Brilliance         21\n",
       "Mahindra           20\n",
       "Lifan              20\n",
       "Maserati           20\n",
       "Changhe            17\n",
       "Chrysler           16\n",
       "Jinbei             15\n",
       "Hummer             14\n",
       "Cadillac           13\n",
       "Geely              13\n",
       "Name: Marca, dtype: int64"
      ]
     },
     "execution_count": 809,
     "metadata": {},
     "output_type": "execute_result"
    }
   ],
   "source": [
    "pwl = enchant.request_pwl_dict(\"brands.txt\")\n",
    "\n",
    "df['Marca'] = df['Marca'].apply(clean_marca)\n",
    "df['Marca'] = df['Marca'].replace(['RENAULT-DUSTER'], 'Renault')\n",
    "df['Marca'] = df['Marca'].replace(['Camioneta Dong Feng'], 'Dongfeng')\n",
    "df['Marca'] = df['Marca'].replace(['D-MAX'], 'Chevrolet')\n",
    "df['Marca'] = df['Marca'].replace(['Camion Mercedes benz'], 'Mercedes-Benz')\n",
    "df['Marca'] = df['Marca'].replace(['SPRINT NEGRO'], 'Chevrolet')\n",
    "df['Marca'] = df['Marca'].replace(['Wolkwanguen'], 'Volkswagen')\n",
    "df['Marca'] = df['Marca'].replace(['ZX'], 'Zhongxing')\n",
    "df['Marca'] = df['Marca'].replace(['Willys'], 'Jeep')\n",
    "df['Marca'] = df['Marca'].replace(['Camioneta KIA PREGIO'], 'Kia')\n",
    "removals = df['Marca'].value_counts().reset_index()\n",
    "removals = removals[removals['Marca'] >= 10]['index'].values\n",
    "df = df[df['Marca'].isin(removals)]\n",
    "df = df.reset_index(drop = True)\n",
    "df['Marca'].value_counts()"
   ]
  },
  {
   "cell_type": "code",
   "execution_count": 810,
   "id": "808e64ae",
   "metadata": {},
   "outputs": [
    {
     "data": {
      "text/plain": [
       "array(['Dodge', 'Jeep', 'Ford', 'Volkswagen', 'Chevrolet', 'Toyota',\n",
       "       'Land Rover', 'Mercedes-Benz', 'Nissan', 'Renault', 'Daihatsu',\n",
       "       'Fiat', 'BMW', 'Suzuki', 'Kia', 'Honda', 'Subaru', 'Porsche',\n",
       "       'Mitsubishi', 'Volvo', 'Mazda', 'Acura', 'Mini', 'Hyundai',\n",
       "       'Daewoo', 'Cadillac', 'Peugeot', 'Skoda', 'Audi', 'Citroen',\n",
       "       'Baic', 'Chrysler', 'Alpina', 'Seat', 'Lexus', 'Ssangyong',\n",
       "       'Hummer', 'Maserati', 'Hafei', 'Foton', 'DFM/DFSK', 'Chery',\n",
       "       'Zotye', 'Jinbei', 'Lifan', 'Geely', 'RAM', 'Changan', 'JBC',\n",
       "       'BYD', 'MG', 'Mahindra', 'JMC', 'Brilliance', 'Changhe', 'Jaguar',\n",
       "       'DS'], dtype=object)"
      ]
     },
     "execution_count": 810,
     "metadata": {},
     "output_type": "execute_result"
    }
   ],
   "source": [
    "df['Marca'].unique()"
   ]
  },
  {
   "cell_type": "code",
   "execution_count": 811,
   "id": "68534a32",
   "metadata": {
    "scrolled": true
   },
   "outputs": [
    {
     "name": "stdout",
     "output_type": "stream",
     "text": [
      "57\n"
     ]
    }
   ],
   "source": [
    "print(len(df['Marca'].unique()))"
   ]
  },
  {
   "cell_type": "code",
   "execution_count": 812,
   "id": "571fb535",
   "metadata": {
    "scrolled": true
   },
   "outputs": [
    {
     "name": "stdout",
     "output_type": "stream",
     "text": [
      "<class 'pandas.core.frame.DataFrame'>\n",
      "RangeIndex: 37539 entries, 0 to 37538\n",
      "Data columns (total 13 columns):\n",
      " #   Column               Non-Null Count  Dtype \n",
      "---  ------               --------------  ----- \n",
      " 0   Titulo               37539 non-null  object\n",
      " 1   Marca                37539 non-null  object\n",
      " 2   Modelo               37539 non-null  object\n",
      " 3   Precio               37539 non-null  int64 \n",
      " 4   Anio                 37539 non-null  int64 \n",
      " 5   Kilometros           37539 non-null  int64 \n",
      " 6   Color                27219 non-null  object\n",
      " 7   Transmision          37512 non-null  object\n",
      " 8   Tipo de combustible  36275 non-null  object\n",
      " 9   Tipo de carroceria   22485 non-null  object\n",
      " 10  Motor                29763 non-null  Int64 \n",
      " 11  Puertas              37539 non-null  Int64 \n",
      " 12  Img                  37539 non-null  object\n",
      "dtypes: Int64(2), int64(3), object(8)\n",
      "memory usage: 3.8+ MB\n"
     ]
    }
   ],
   "source": [
    "df.info()"
   ]
  },
  {
   "cell_type": "markdown",
   "id": "531878b2",
   "metadata": {},
   "source": [
    "#### Modelo"
   ]
  },
  {
   "cell_type": "code",
   "execution_count": 813,
   "id": "f56c5600",
   "metadata": {},
   "outputs": [
    {
     "data": {
      "text/plain": [
       "array(['dodge desoto D8', 'Willys', 'willys Cj3a', ..., 'Scrambler',\n",
       "       'Rover Freelander', 'LS 400'], dtype=object)"
      ]
     },
     "execution_count": 813,
     "metadata": {},
     "output_type": "execute_result"
    }
   ],
   "source": [
    "df['Modelo'].unique()"
   ]
  },
  {
   "cell_type": "code",
   "execution_count": 814,
   "id": "03d6d8f7",
   "metadata": {},
   "outputs": [
    {
     "data": {
      "text/plain": [
       "3                                  856\n",
       "Prado                              788\n",
       "Duster                             757\n",
       "Logan                              687\n",
       "Sandero                            553\n",
       "                                  ... \n",
       "TERAMONT HIGHILNE 3.6L 280 CVAT      1\n",
       "Chiva                                1\n",
       "D22 Np300                            1\n",
       "7                                    1\n",
       "Cla 180                              1\n",
       "Name: Modelo, Length: 1611, dtype: int64"
      ]
     },
     "execution_count": 814,
     "metadata": {},
     "output_type": "execute_result"
    }
   ],
   "source": [
    "df['Modelo'].value_counts()"
   ]
  },
  {
   "cell_type": "code",
   "execution_count": 815,
   "id": "52bbb24e",
   "metadata": {},
   "outputs": [
    {
     "name": "stdout",
     "output_type": "stream",
     "text": [
      "1611\n"
     ]
    }
   ],
   "source": [
    "print(len(df['Modelo'].unique()))"
   ]
  },
  {
   "cell_type": "code",
   "execution_count": 816,
   "id": "70abe31b",
   "metadata": {},
   "outputs": [],
   "source": [
    "removals = df['Modelo'].value_counts().reset_index()\n",
    "removals = removals[removals['Modelo'] >= 3]['index'].values\n",
    "df = df[df['Modelo'].isin(removals)]\n",
    "df = df.reset_index(drop = True)"
   ]
  },
  {
   "cell_type": "code",
   "execution_count": 817,
   "id": "1996a822",
   "metadata": {},
   "outputs": [
    {
     "name": "stdout",
     "output_type": "stream",
     "text": [
      "816\n"
     ]
    }
   ],
   "source": [
    "print(len(df['Modelo'].unique()))"
   ]
  },
  {
   "cell_type": "code",
   "execution_count": 818,
   "id": "2e09fe99",
   "metadata": {},
   "outputs": [
    {
     "data": {
      "text/plain": [
       "3          856\n",
       "Prado      788\n",
       "Duster     757\n",
       "Logan      687\n",
       "Sandero    553\n",
       "          ... \n",
       "Zonora       3\n",
       "V27          3\n",
       "Xuv 500      3\n",
       "Mazda 6      3\n",
       "Stonic       3\n",
       "Name: Modelo, Length: 816, dtype: int64"
      ]
     },
     "execution_count": 818,
     "metadata": {},
     "output_type": "execute_result"
    }
   ],
   "source": [
    "df['Modelo'].value_counts()"
   ]
  },
  {
   "cell_type": "code",
   "execution_count": 819,
   "id": "7ce8728e",
   "metadata": {},
   "outputs": [
    {
     "name": "stdout",
     "output_type": "stream",
     "text": [
      "<class 'pandas.core.frame.DataFrame'>\n",
      "RangeIndex: 36573 entries, 0 to 36572\n",
      "Data columns (total 13 columns):\n",
      " #   Column               Non-Null Count  Dtype \n",
      "---  ------               --------------  ----- \n",
      " 0   Titulo               36573 non-null  object\n",
      " 1   Marca                36573 non-null  object\n",
      " 2   Modelo               36573 non-null  object\n",
      " 3   Precio               36573 non-null  int64 \n",
      " 4   Anio                 36573 non-null  int64 \n",
      " 5   Kilometros           36573 non-null  int64 \n",
      " 6   Color                26530 non-null  object\n",
      " 7   Transmision          36548 non-null  object\n",
      " 8   Tipo de combustible  35354 non-null  object\n",
      " 9   Tipo de carroceria   22179 non-null  object\n",
      " 10  Motor                29371 non-null  Int64 \n",
      " 11  Puertas              36573 non-null  Int64 \n",
      " 12  Img                  36573 non-null  object\n",
      "dtypes: Int64(2), int64(3), object(8)\n",
      "memory usage: 3.7+ MB\n"
     ]
    }
   ],
   "source": [
    "df.info()"
   ]
  },
  {
   "cell_type": "code",
   "execution_count": 820,
   "id": "51569738",
   "metadata": {},
   "outputs": [],
   "source": [
    "models_df = pd.read_csv('model_data.csv', sep = \";\")\n",
    "models = models_df['Model'].unique()\n",
    "pwl = enchant.request_pwl_dict(\"models.txt\")\n",
    "\n",
    "#write_models()\n",
    "#df['Modelo'] = df['Modelo'].apply(clean_modelo)\n",
    "#df['Modelo'] = df['Modelo'].apply(lambda x: x.upper())\n",
    "#df.head()"
   ]
  },
  {
   "cell_type": "markdown",
   "id": "72093073",
   "metadata": {},
   "source": [
    "#### Color"
   ]
  },
  {
   "cell_type": "code",
   "execution_count": 821,
   "id": "055a3afa",
   "metadata": {},
   "outputs": [],
   "source": [
    "df['Color'] = df['Color'].fillna('No Disponible')"
   ]
  },
  {
   "cell_type": "code",
   "execution_count": 822,
   "id": "483a4dbc",
   "metadata": {},
   "outputs": [
    {
     "name": "stdout",
     "output_type": "stream",
     "text": [
      "871\n"
     ]
    }
   ],
   "source": [
    "print(len(df['Color'].unique()))"
   ]
  },
  {
   "cell_type": "code",
   "execution_count": 823,
   "id": "cd56f058",
   "metadata": {
    "scrolled": false
   },
   "outputs": [],
   "source": [
    "pwl = enchant.request_pwl_dict(\"colors.txt\")\n",
    "df['Color'] = df['Color'].apply(clean_color)"
   ]
  },
  {
   "cell_type": "code",
   "execution_count": 824,
   "id": "1bf843c4",
   "metadata": {
    "scrolled": false
   },
   "outputs": [
    {
     "data": {
      "text/plain": [
       "array(['Beige', 'No Disponible', 'Gris', 'Rojo', 'Habano', 'Azul',\n",
       "       'Verde', 'Amarillo', 'Blanco', 'Negro', 'Celeste', 'Plateado',\n",
       "       'Lila', 'ROJO61062', 'Naranja', 'Dorado', 'Marron',\n",
       "       'Negro-Naranja', 'HABANO', 'Cafe', 'Zinnoberot', 'Violeta',\n",
       "       'Vinotinto', 'WOX712', 'CDN753', 'Granate', 'Rosa', 'Champaña',\n",
       "       'Cantera metalizado', 'ALUMINIO METALICO', 'champaña',\n",
       "       'Nacar metalizado', 'SAHARA', 'BLANCOSPINO', 'VINOTINTO',\n",
       "       'NACAR METALIZADO', 'METALICO RADIANTE', 'ALUMINIOO METALICO',\n",
       "       'TITANIO METALICO', 'HIPERMETALICO', 'Nacar', 'Gris/Beige',\n",
       "       'Hipermetalico', 'NegroMate', 'Ocre', 'Aluminio metalico', 'Tan',\n",
       "       'Titanio', 'Indefinido', 'MULTICOLOR', 'Negro-Blanco',\n",
       "       'Aluminio Metálico', 'Metalizado', 'ULTRA-AZUL', 'TITANIUM FLASH',\n",
       "       'TITANIO FLASH', 'Titanio Flash', 'MACHINE', 'ESP935',\n",
       "       'Según disponibilidad', 'Otro', 'Según Disponibilidad',\n",
       "       'BLANCO/GRIS/NEGRO/ROJO', 'Blanco/plata', 'SILVER'], dtype=object)"
      ]
     },
     "execution_count": 824,
     "metadata": {},
     "output_type": "execute_result"
    }
   ],
   "source": [
    "df['Color'].unique()"
   ]
  },
  {
   "cell_type": "code",
   "execution_count": 825,
   "id": "135fcd0b",
   "metadata": {
    "scrolled": true
   },
   "outputs": [
    {
     "name": "stdout",
     "output_type": "stream",
     "text": [
      "65\n"
     ]
    }
   ],
   "source": [
    "print(len(df['Color'].unique()))"
   ]
  },
  {
   "cell_type": "markdown",
   "id": "f2029fb1",
   "metadata": {},
   "source": [
    "#### Tipo de combustible"
   ]
  },
  {
   "cell_type": "code",
   "execution_count": 826,
   "id": "51dfbfa3",
   "metadata": {
    "scrolled": true
   },
   "outputs": [
    {
     "name": "stdout",
     "output_type": "stream",
     "text": [
      "['Gasolina' 'Diesel' 'Gasolina y Gas' 'Eléctrico' 'Híbrido' 'Gas']\n",
      "Gasolina: 32059\n",
      "Diesel: 3587\n",
      "Gasolina y Gas: 424\n",
      "Eléctrico: 148\n",
      "Híbrido: 218\n",
      "Gas: 137\n"
     ]
    }
   ],
   "source": [
    "def sumTC(type):\n",
    "    return (df['Tipo de combustible'].values == type).sum()\n",
    "\n",
    "df[\"Tipo de combustible\"].replace({'Diésel':'Diesel'}, inplace=True)\n",
    "df[\"Tipo de combustible\"].replace({np.nan:'Gasolina'}, inplace=True)\n",
    "df[\"Tipo de combustible\"].replace({'Gasolina y gas':'Gasolina y Gas'}, inplace=True)\n",
    "df[\"Tipo de combustible\"].replace({'Gas Natural':'Gas'}, inplace=True)\n",
    "\n",
    "print(df[\"Tipo de combustible\"].unique())\n",
    "for t in df[\"Tipo de combustible\"].dropna().unique():\n",
    "    print(t + ': ' + str(sumTC(t)))"
   ]
  },
  {
   "cell_type": "markdown",
   "id": "31631d11",
   "metadata": {},
   "source": [
    "Now the data is clean and we can analyze it."
   ]
  },
  {
   "cell_type": "markdown",
   "id": "e31b48d5",
   "metadata": {},
   "source": [
    "## Data Analysis"
   ]
  },
  {
   "cell_type": "code",
   "execution_count": 827,
   "id": "92d47418",
   "metadata": {
    "scrolled": true
   },
   "outputs": [
    {
     "data": {
      "text/plain": [
       "Tipo de carroceria     14394\n",
       "Motor                   7202\n",
       "Transmision               25\n",
       "Titulo                     0\n",
       "Marca                      0\n",
       "Modelo                     0\n",
       "Precio                     0\n",
       "Anio                       0\n",
       "Kilometros                 0\n",
       "Color                      0\n",
       "Tipo de combustible        0\n",
       "Puertas                    0\n",
       "Img                        0\n",
       "dtype: int64"
      ]
     },
     "execution_count": 827,
     "metadata": {},
     "output_type": "execute_result"
    }
   ],
   "source": [
    "df.isnull().sum().sort_values(ascending = False)"
   ]
  },
  {
   "cell_type": "code",
   "execution_count": 828,
   "id": "dfd4fcef",
   "metadata": {
    "scrolled": false
   },
   "outputs": [
    {
     "data": {
      "text/html": [
       "<div>\n",
       "<style scoped>\n",
       "    .dataframe tbody tr th:only-of-type {\n",
       "        vertical-align: middle;\n",
       "    }\n",
       "\n",
       "    .dataframe tbody tr th {\n",
       "        vertical-align: top;\n",
       "    }\n",
       "\n",
       "    .dataframe thead th {\n",
       "        text-align: right;\n",
       "    }\n",
       "</style>\n",
       "<table border=\"1\" class=\"dataframe\">\n",
       "  <thead>\n",
       "    <tr style=\"text-align: right;\">\n",
       "      <th></th>\n",
       "      <th>Precio</th>\n",
       "      <th>Anio</th>\n",
       "      <th>Kilometros</th>\n",
       "      <th>Motor</th>\n",
       "      <th>Puertas</th>\n",
       "    </tr>\n",
       "  </thead>\n",
       "  <tbody>\n",
       "    <tr>\n",
       "      <th>count</th>\n",
       "      <td>3.657300e+04</td>\n",
       "      <td>36573.000000</td>\n",
       "      <td>3.657300e+04</td>\n",
       "      <td>29371.000000</td>\n",
       "      <td>36573.000000</td>\n",
       "    </tr>\n",
       "    <tr>\n",
       "      <th>mean</th>\n",
       "      <td>7.211034e+07</td>\n",
       "      <td>2013.069696</td>\n",
       "      <td>1.260379e+05</td>\n",
       "      <td>2136.153587</td>\n",
       "      <td>4.328056</td>\n",
       "    </tr>\n",
       "    <tr>\n",
       "      <th>std</th>\n",
       "      <td>1.834656e+08</td>\n",
       "      <td>8.115123</td>\n",
       "      <td>5.359650e+06</td>\n",
       "      <td>953.772027</td>\n",
       "      <td>10.560692</td>\n",
       "    </tr>\n",
       "    <tr>\n",
       "      <th>min</th>\n",
       "      <td>1.250000e+03</td>\n",
       "      <td>1946.000000</td>\n",
       "      <td>0.000000e+00</td>\n",
       "      <td>16.000000</td>\n",
       "      <td>1.000000</td>\n",
       "    </tr>\n",
       "    <tr>\n",
       "      <th>25%</th>\n",
       "      <td>3.150000e+07</td>\n",
       "      <td>2011.000000</td>\n",
       "      <td>2.636200e+04</td>\n",
       "      <td>1600.000000</td>\n",
       "      <td>4.000000</td>\n",
       "    </tr>\n",
       "    <tr>\n",
       "      <th>50%</th>\n",
       "      <td>4.950000e+07</td>\n",
       "      <td>2015.000000</td>\n",
       "      <td>6.500000e+04</td>\n",
       "      <td>2000.000000</td>\n",
       "      <td>4.000000</td>\n",
       "    </tr>\n",
       "    <tr>\n",
       "      <th>75%</th>\n",
       "      <td>8.350000e+07</td>\n",
       "      <td>2018.000000</td>\n",
       "      <td>1.100000e+05</td>\n",
       "      <td>2500.000000</td>\n",
       "      <td>5.000000</td>\n",
       "    </tr>\n",
       "    <tr>\n",
       "      <th>max</th>\n",
       "      <td>2.808886e+10</td>\n",
       "      <td>2022.000000</td>\n",
       "      <td>9.967677e+08</td>\n",
       "      <td>9990.000000</td>\n",
       "      <td>2018.000000</td>\n",
       "    </tr>\n",
       "  </tbody>\n",
       "</table>\n",
       "</div>"
      ],
      "text/plain": [
       "             Precio          Anio    Kilometros         Motor       Puertas\n",
       "count  3.657300e+04  36573.000000  3.657300e+04  29371.000000  36573.000000\n",
       "mean   7.211034e+07   2013.069696  1.260379e+05   2136.153587      4.328056\n",
       "std    1.834656e+08      8.115123  5.359650e+06    953.772027     10.560692\n",
       "min    1.250000e+03   1946.000000  0.000000e+00     16.000000      1.000000\n",
       "25%    3.150000e+07   2011.000000  2.636200e+04   1600.000000      4.000000\n",
       "50%    4.950000e+07   2015.000000  6.500000e+04   2000.000000      4.000000\n",
       "75%    8.350000e+07   2018.000000  1.100000e+05   2500.000000      5.000000\n",
       "max    2.808886e+10   2022.000000  9.967677e+08   9990.000000   2018.000000"
      ]
     },
     "execution_count": 828,
     "metadata": {},
     "output_type": "execute_result"
    }
   ],
   "source": [
    "df.describe()"
   ]
  },
  {
   "cell_type": "markdown",
   "id": "ac77557d",
   "metadata": {},
   "source": [
    "The extremely high max value and low min value of Precio indicates that we might have dirty data and outliers."
   ]
  },
  {
   "cell_type": "code",
   "execution_count": 829,
   "id": "239d3473",
   "metadata": {},
   "outputs": [
    {
     "data": {
      "text/html": [
       "<div>\n",
       "<style scoped>\n",
       "    .dataframe tbody tr th:only-of-type {\n",
       "        vertical-align: middle;\n",
       "    }\n",
       "\n",
       "    .dataframe tbody tr th {\n",
       "        vertical-align: top;\n",
       "    }\n",
       "\n",
       "    .dataframe thead th {\n",
       "        text-align: right;\n",
       "    }\n",
       "</style>\n",
       "<table border=\"1\" class=\"dataframe\">\n",
       "  <thead>\n",
       "    <tr style=\"text-align: right;\">\n",
       "      <th></th>\n",
       "      <th>Titulo</th>\n",
       "      <th>Marca</th>\n",
       "      <th>Modelo</th>\n",
       "      <th>Precio</th>\n",
       "      <th>Anio</th>\n",
       "      <th>Kilometros</th>\n",
       "      <th>Color</th>\n",
       "      <th>Transmision</th>\n",
       "      <th>Tipo de combustible</th>\n",
       "      <th>Tipo de carroceria</th>\n",
       "      <th>Motor</th>\n",
       "      <th>Puertas</th>\n",
       "      <th>Img</th>\n",
       "    </tr>\n",
       "  </thead>\n",
       "  <tbody>\n",
       "    <tr>\n",
       "      <th>34998</th>\n",
       "      <td>Cadillac El Dorado 2.8L</td>\n",
       "      <td>Cadillac</td>\n",
       "      <td>El Dorado</td>\n",
       "      <td>28088855569</td>\n",
       "      <td>2021</td>\n",
       "      <td>25860</td>\n",
       "      <td>Gris</td>\n",
       "      <td>Automática</td>\n",
       "      <td>Diesel</td>\n",
       "      <td>NaN</td>\n",
       "      <td>1005</td>\n",
       "      <td>4</td>\n",
       "      <td>https://www.carroya.com/web/images/vehiculos/1...</td>\n",
       "    </tr>\n",
       "    <tr>\n",
       "      <th>34988</th>\n",
       "      <td>AUDI A5</td>\n",
       "      <td>Audi</td>\n",
       "      <td>A5</td>\n",
       "      <td>9999955566</td>\n",
       "      <td>2021</td>\n",
       "      <td>2580</td>\n",
       "      <td>Gris</td>\n",
       "      <td>Mecánica</td>\n",
       "      <td>Gasolina</td>\n",
       "      <td>NaN</td>\n",
       "      <td>2580</td>\n",
       "      <td>4</td>\n",
       "      <td>https://www.carroya.com/web/images/vehiculos/1...</td>\n",
       "    </tr>\n",
       "    <tr>\n",
       "      <th>27097</th>\n",
       "      <td>AUDI A5</td>\n",
       "      <td>Audi</td>\n",
       "      <td>A5</td>\n",
       "      <td>9999955566</td>\n",
       "      <td>2021</td>\n",
       "      <td>2580</td>\n",
       "      <td>Gris</td>\n",
       "      <td>Mecánica</td>\n",
       "      <td>Gasolina</td>\n",
       "      <td>NaN</td>\n",
       "      <td>2580</td>\n",
       "      <td>4</td>\n",
       "      <td>https://www.carroya.com/web/images/vehiculos/1...</td>\n",
       "    </tr>\n",
       "    <tr>\n",
       "      <th>30181</th>\n",
       "      <td>Nissan X-trail Classic</td>\n",
       "      <td>Nissan</td>\n",
       "      <td>X-trail Classic</td>\n",
       "      <td>1111111111</td>\n",
       "      <td>2011</td>\n",
       "      <td>11111111</td>\n",
       "      <td>Blanco</td>\n",
       "      <td>0</td>\n",
       "      <td>Gasolina</td>\n",
       "      <td>NaN</td>\n",
       "      <td>&lt;NA&gt;</td>\n",
       "      <td>4</td>\n",
       "      <td>https://www.carroya.com/web/images/vehiculos/2...</td>\n",
       "    </tr>\n",
       "    <tr>\n",
       "      <th>32354</th>\n",
       "      <td>AUDI A3</td>\n",
       "      <td>Audi</td>\n",
       "      <td>A3</td>\n",
       "      <td>999999999</td>\n",
       "      <td>2016</td>\n",
       "      <td>88900</td>\n",
       "      <td>Gris</td>\n",
       "      <td>Mecánica</td>\n",
       "      <td>Gas</td>\n",
       "      <td>NaN</td>\n",
       "      <td>9887</td>\n",
       "      <td>4</td>\n",
       "      <td>https://www.carroya.com/web/images/vehiculos/1...</td>\n",
       "    </tr>\n",
       "  </tbody>\n",
       "</table>\n",
       "</div>"
      ],
      "text/plain": [
       "                        Titulo     Marca           Modelo       Precio  Anio  \\\n",
       "34998  Cadillac El Dorado 2.8L  Cadillac        El Dorado  28088855569  2021   \n",
       "34988                 AUDI A5       Audi               A5   9999955566  2021   \n",
       "27097                 AUDI A5       Audi               A5   9999955566  2021   \n",
       "30181  Nissan X-trail Classic     Nissan  X-trail Classic   1111111111  2011   \n",
       "32354                 AUDI A3       Audi               A3    999999999  2016   \n",
       "\n",
       "       Kilometros   Color Transmision Tipo de combustible Tipo de carroceria  \\\n",
       "34998       25860    Gris  Automática              Diesel                NaN   \n",
       "34988        2580    Gris    Mecánica            Gasolina                NaN   \n",
       "27097        2580    Gris    Mecánica            Gasolina                NaN   \n",
       "30181    11111111  Blanco           0            Gasolina                NaN   \n",
       "32354       88900    Gris    Mecánica                 Gas                NaN   \n",
       "\n",
       "       Motor  Puertas                                                Img  \n",
       "34998   1005        4  https://www.carroya.com/web/images/vehiculos/1...  \n",
       "34988   2580        4  https://www.carroya.com/web/images/vehiculos/1...  \n",
       "27097   2580        4  https://www.carroya.com/web/images/vehiculos/1...  \n",
       "30181   <NA>        4  https://www.carroya.com/web/images/vehiculos/2...  \n",
       "32354   9887        4  https://www.carroya.com/web/images/vehiculos/1...  "
      ]
     },
     "execution_count": 829,
     "metadata": {},
     "output_type": "execute_result"
    }
   ],
   "source": [
    "temp = df.sort_values(by = ['Precio'], ascending = False)\n",
    "temp.head()"
   ]
  },
  {
   "cell_type": "code",
   "execution_count": 830,
   "id": "f7d1a856",
   "metadata": {
    "scrolled": false
   },
   "outputs": [
    {
     "data": {
      "text/html": [
       "<div>\n",
       "<style scoped>\n",
       "    .dataframe tbody tr th:only-of-type {\n",
       "        vertical-align: middle;\n",
       "    }\n",
       "\n",
       "    .dataframe tbody tr th {\n",
       "        vertical-align: top;\n",
       "    }\n",
       "\n",
       "    .dataframe thead th {\n",
       "        text-align: right;\n",
       "    }\n",
       "</style>\n",
       "<table border=\"1\" class=\"dataframe\">\n",
       "  <thead>\n",
       "    <tr style=\"text-align: right;\">\n",
       "      <th></th>\n",
       "      <th>Titulo</th>\n",
       "      <th>Marca</th>\n",
       "      <th>Modelo</th>\n",
       "      <th>Precio</th>\n",
       "      <th>Anio</th>\n",
       "      <th>Kilometros</th>\n",
       "      <th>Color</th>\n",
       "      <th>Transmision</th>\n",
       "      <th>Tipo de combustible</th>\n",
       "      <th>Tipo de carroceria</th>\n",
       "      <th>Motor</th>\n",
       "      <th>Puertas</th>\n",
       "      <th>Img</th>\n",
       "    </tr>\n",
       "  </thead>\n",
       "  <tbody>\n",
       "    <tr>\n",
       "      <th>3595</th>\n",
       "      <td>Mazda 626 2.0 Na0</td>\n",
       "      <td>Mazda</td>\n",
       "      <td>626</td>\n",
       "      <td>1250</td>\n",
       "      <td>2006</td>\n",
       "      <td>2000</td>\n",
       "      <td>No Disponible</td>\n",
       "      <td>Mecánica</td>\n",
       "      <td>Gasolina</td>\n",
       "      <td>Sedán</td>\n",
       "      <td>2000</td>\n",
       "      <td>4</td>\n",
       "      <td>https://http2.mlstatic.com/D_NQ_NP_655221-MCO4...</td>\n",
       "    </tr>\n",
       "    <tr>\n",
       "      <th>1054</th>\n",
       "      <td>Chevrolet Trooper Standar 2400</td>\n",
       "      <td>Chevrolet</td>\n",
       "      <td>Trooper</td>\n",
       "      <td>1900</td>\n",
       "      <td>1994</td>\n",
       "      <td>251000</td>\n",
       "      <td>No Disponible</td>\n",
       "      <td>Mecánica</td>\n",
       "      <td>Gasolina</td>\n",
       "      <td>NaN</td>\n",
       "      <td>&lt;NA&gt;</td>\n",
       "      <td>3</td>\n",
       "      <td>https://http2.mlstatic.com/D_NQ_NP_681454-MCO4...</td>\n",
       "    </tr>\n",
       "    <tr>\n",
       "      <th>644</th>\n",
       "      <td>Chevrolet Trooper 2.6 Dlx</td>\n",
       "      <td>Chevrolet</td>\n",
       "      <td>Trooper</td>\n",
       "      <td>1900</td>\n",
       "      <td>1990</td>\n",
       "      <td>1</td>\n",
       "      <td>Azul</td>\n",
       "      <td>Mecánica</td>\n",
       "      <td>Gasolina</td>\n",
       "      <td>Camioneta</td>\n",
       "      <td>2600</td>\n",
       "      <td>5</td>\n",
       "      <td>https://http2.mlstatic.com/D_NQ_NP_828624-MCO4...</td>\n",
       "    </tr>\n",
       "    <tr>\n",
       "      <th>26015</th>\n",
       "      <td>Chevrolet Sail 1.4 Ltz Sport</td>\n",
       "      <td>Chevrolet</td>\n",
       "      <td>Sail</td>\n",
       "      <td>2334</td>\n",
       "      <td>2021</td>\n",
       "      <td>999999</td>\n",
       "      <td>No Disponible</td>\n",
       "      <td>Automática</td>\n",
       "      <td>Gasolina</td>\n",
       "      <td>Hatchback</td>\n",
       "      <td>1400</td>\n",
       "      <td>5</td>\n",
       "      <td>https://http2.mlstatic.com/D_NQ_NP_996784-MCO4...</td>\n",
       "    </tr>\n",
       "    <tr>\n",
       "      <th>1447</th>\n",
       "      <td>Mazda 626 Mazda 626 Matsuri</td>\n",
       "      <td>Mazda</td>\n",
       "      <td>626</td>\n",
       "      <td>5500</td>\n",
       "      <td>1996</td>\n",
       "      <td>7</td>\n",
       "      <td>No Disponible</td>\n",
       "      <td>Automática</td>\n",
       "      <td>Gasolina</td>\n",
       "      <td>NaN</td>\n",
       "      <td>&lt;NA&gt;</td>\n",
       "      <td>4</td>\n",
       "      <td>https://http2.mlstatic.com/D_NQ_NP_986815-MCO4...</td>\n",
       "    </tr>\n",
       "  </tbody>\n",
       "</table>\n",
       "</div>"
      ],
      "text/plain": [
       "                               Titulo      Marca   Modelo  Precio  Anio  \\\n",
       "3595                Mazda 626 2.0 Na0      Mazda      626    1250  2006   \n",
       "1054   Chevrolet Trooper Standar 2400  Chevrolet  Trooper    1900  1994   \n",
       "644         Chevrolet Trooper 2.6 Dlx  Chevrolet  Trooper    1900  1990   \n",
       "26015    Chevrolet Sail 1.4 Ltz Sport  Chevrolet     Sail    2334  2021   \n",
       "1447     Mazda 626 Mazda 626 Matsuri       Mazda      626    5500  1996   \n",
       "\n",
       "       Kilometros          Color Transmision Tipo de combustible  \\\n",
       "3595         2000  No Disponible    Mecánica            Gasolina   \n",
       "1054       251000  No Disponible    Mecánica            Gasolina   \n",
       "644             1           Azul    Mecánica            Gasolina   \n",
       "26015      999999  No Disponible  Automática            Gasolina   \n",
       "1447            7  No Disponible  Automática            Gasolina   \n",
       "\n",
       "      Tipo de carroceria  Motor  Puertas  \\\n",
       "3595               Sedán   2000        4   \n",
       "1054                 NaN   <NA>        3   \n",
       "644            Camioneta   2600        5   \n",
       "26015          Hatchback   1400        5   \n",
       "1447                 NaN   <NA>        4   \n",
       "\n",
       "                                                     Img  \n",
       "3595   https://http2.mlstatic.com/D_NQ_NP_655221-MCO4...  \n",
       "1054   https://http2.mlstatic.com/D_NQ_NP_681454-MCO4...  \n",
       "644    https://http2.mlstatic.com/D_NQ_NP_828624-MCO4...  \n",
       "26015  https://http2.mlstatic.com/D_NQ_NP_996784-MCO4...  \n",
       "1447   https://http2.mlstatic.com/D_NQ_NP_986815-MCO4...  "
      ]
     },
     "execution_count": 830,
     "metadata": {},
     "output_type": "execute_result"
    }
   ],
   "source": [
    "temp = df.sort_values(by = ['Precio'], ascending = True)\n",
    "temp.head()"
   ]
  },
  {
   "cell_type": "code",
   "execution_count": 831,
   "id": "01207466",
   "metadata": {
    "scrolled": false
   },
   "outputs": [
    {
     "data": {
      "text/html": [
       "<div>\n",
       "<style scoped>\n",
       "    .dataframe tbody tr th:only-of-type {\n",
       "        vertical-align: middle;\n",
       "    }\n",
       "\n",
       "    .dataframe tbody tr th {\n",
       "        vertical-align: top;\n",
       "    }\n",
       "\n",
       "    .dataframe thead th {\n",
       "        text-align: right;\n",
       "    }\n",
       "</style>\n",
       "<table border=\"1\" class=\"dataframe\">\n",
       "  <thead>\n",
       "    <tr style=\"text-align: right;\">\n",
       "      <th></th>\n",
       "      <th>Titulo</th>\n",
       "      <th>Marca</th>\n",
       "      <th>Modelo</th>\n",
       "      <th>Precio</th>\n",
       "      <th>Anio</th>\n",
       "      <th>Kilometros</th>\n",
       "      <th>Color</th>\n",
       "      <th>Transmision</th>\n",
       "      <th>Tipo de combustible</th>\n",
       "      <th>Tipo de carroceria</th>\n",
       "      <th>Motor</th>\n",
       "      <th>Puertas</th>\n",
       "      <th>Img</th>\n",
       "    </tr>\n",
       "  </thead>\n",
       "  <tbody>\n",
       "    <tr>\n",
       "      <th>18745</th>\n",
       "      <td>Mazda 2 1.5 Touring</td>\n",
       "      <td>Mazda</td>\n",
       "      <td>2</td>\n",
       "      <td>53000000</td>\n",
       "      <td>2018</td>\n",
       "      <td>54000</td>\n",
       "      <td>Gris</td>\n",
       "      <td>Automática</td>\n",
       "      <td>Gasolina</td>\n",
       "      <td>Hatchback</td>\n",
       "      <td>&lt;NA&gt;</td>\n",
       "      <td>2018</td>\n",
       "      <td>https://http2.mlstatic.com/D_NQ_NP_934280-MCO4...</td>\n",
       "    </tr>\n",
       "    <tr>\n",
       "      <th>8667</th>\n",
       "      <td>Renault Master 2.5 Confort</td>\n",
       "      <td>Renault</td>\n",
       "      <td>Master</td>\n",
       "      <td>50000000</td>\n",
       "      <td>2012</td>\n",
       "      <td>267000</td>\n",
       "      <td>Blanco</td>\n",
       "      <td>Mecánica</td>\n",
       "      <td>Diesel</td>\n",
       "      <td>Furgón</td>\n",
       "      <td>2500</td>\n",
       "      <td>16</td>\n",
       "      <td>https://http2.mlstatic.com/D_NQ_NP_738629-MCO4...</td>\n",
       "    </tr>\n",
       "    <tr>\n",
       "      <th>1338</th>\n",
       "      <td>Toyota Land Cruiser Fzj80 Japonesa</td>\n",
       "      <td>Toyota</td>\n",
       "      <td>Burbuja</td>\n",
       "      <td>108000000</td>\n",
       "      <td>1996</td>\n",
       "      <td>170000</td>\n",
       "      <td>Rojo</td>\n",
       "      <td>Mecánica</td>\n",
       "      <td>Gasolina</td>\n",
       "      <td>Monovolumen</td>\n",
       "      <td>4500</td>\n",
       "      <td>9</td>\n",
       "      <td>https://http2.mlstatic.com/D_NQ_NP_965021-MCO4...</td>\n",
       "    </tr>\n",
       "    <tr>\n",
       "      <th>13323</th>\n",
       "      <td>Hyundai Grand i10 Illusion 1.2 Style 5 p</td>\n",
       "      <td>Hyundai</td>\n",
       "      <td>Grand i10</td>\n",
       "      <td>78000000</td>\n",
       "      <td>2015</td>\n",
       "      <td>78900</td>\n",
       "      <td>Blanco</td>\n",
       "      <td>Mecánica</td>\n",
       "      <td>Gasolina</td>\n",
       "      <td>NaN</td>\n",
       "      <td>&lt;NA&gt;</td>\n",
       "      <td>8</td>\n",
       "      <td>https://http2.mlstatic.com/D_NQ_NP_842469-MCO4...</td>\n",
       "    </tr>\n",
       "    <tr>\n",
       "      <th>4560</th>\n",
       "      <td>Kia Rio 1.6 5 p</td>\n",
       "      <td>Kia</td>\n",
       "      <td>Rio</td>\n",
       "      <td>78000000</td>\n",
       "      <td>2009</td>\n",
       "      <td>78900</td>\n",
       "      <td>Negro</td>\n",
       "      <td>Automática</td>\n",
       "      <td>Gasolina</td>\n",
       "      <td>NaN</td>\n",
       "      <td>&lt;NA&gt;</td>\n",
       "      <td>8</td>\n",
       "      <td>https://http2.mlstatic.com/D_NQ_NP_621811-MCO4...</td>\n",
       "    </tr>\n",
       "  </tbody>\n",
       "</table>\n",
       "</div>"
      ],
      "text/plain": [
       "                                         Titulo    Marca     Modelo  \\\n",
       "18745                       Mazda 2 1.5 Touring    Mazda          2   \n",
       "8667                 Renault Master 2.5 Confort  Renault     Master   \n",
       "1338        Toyota Land Cruiser Fzj80 Japonesa    Toyota    Burbuja   \n",
       "13323  Hyundai Grand i10 Illusion 1.2 Style 5 p  Hyundai  Grand i10   \n",
       "4560                            Kia Rio 1.6 5 p      Kia        Rio   \n",
       "\n",
       "          Precio  Anio  Kilometros   Color Transmision Tipo de combustible  \\\n",
       "18745   53000000  2018       54000    Gris  Automática            Gasolina   \n",
       "8667    50000000  2012      267000  Blanco    Mecánica              Diesel   \n",
       "1338   108000000  1996      170000    Rojo    Mecánica            Gasolina   \n",
       "13323   78000000  2015       78900  Blanco    Mecánica            Gasolina   \n",
       "4560    78000000  2009       78900   Negro  Automática            Gasolina   \n",
       "\n",
       "      Tipo de carroceria  Motor  Puertas  \\\n",
       "18745          Hatchback   <NA>     2018   \n",
       "8667              Furgón   2500       16   \n",
       "1338         Monovolumen   4500        9   \n",
       "13323                NaN   <NA>        8   \n",
       "4560                 NaN   <NA>        8   \n",
       "\n",
       "                                                     Img  \n",
       "18745  https://http2.mlstatic.com/D_NQ_NP_934280-MCO4...  \n",
       "8667   https://http2.mlstatic.com/D_NQ_NP_738629-MCO4...  \n",
       "1338   https://http2.mlstatic.com/D_NQ_NP_965021-MCO4...  \n",
       "13323  https://http2.mlstatic.com/D_NQ_NP_842469-MCO4...  \n",
       "4560   https://http2.mlstatic.com/D_NQ_NP_621811-MCO4...  "
      ]
     },
     "execution_count": 831,
     "metadata": {},
     "output_type": "execute_result"
    }
   ],
   "source": [
    "temp = df.sort_values(by = ['Puertas'], ascending = False)\n",
    "temp.head()"
   ]
  },
  {
   "cell_type": "code",
   "execution_count": 832,
   "id": "ed74d2ec",
   "metadata": {},
   "outputs": [],
   "source": [
    "df = df[(df['Precio'] > 3000000) & (df['Precio'] < 300000000)]"
   ]
  },
  {
   "cell_type": "markdown",
   "id": "ce521536",
   "metadata": {},
   "source": [
    "The dataset have cars with unreal prices like 1250 COP and exorbitant prices such as 28088855569 COP and 9999955566 COP, so we decided to put a minimum and maximum value of Precio in order to eliminate noise and have more reliable information. Kilometros and Puertas also have outliers"
   ]
  },
  {
   "cell_type": "markdown",
   "id": "993a1abf",
   "metadata": {},
   "source": [
    "Since Puertas have values such as 2018, 16 and 9, but cars doesn't really have that amount of Puertas, we decided to delete Puertas > 6."
   ]
  },
  {
   "cell_type": "code",
   "execution_count": 833,
   "id": "49ca4ba7",
   "metadata": {},
   "outputs": [],
   "source": [
    "df = df[df['Puertas'] <= 5]"
   ]
  },
  {
   "cell_type": "markdown",
   "id": "190ea88d",
   "metadata": {},
   "source": [
    "To get ride of outliers, we're going to delete values +- 3 SD mean."
   ]
  },
  {
   "cell_type": "code",
   "execution_count": 834,
   "id": "48112a94",
   "metadata": {},
   "outputs": [],
   "source": [
    "df = df[(np.abs(stats.zscore(df['Precio'])) < 3)]\n",
    "df = df[(np.abs(stats.zscore(df['Kilometros'])) < 3)]"
   ]
  },
  {
   "cell_type": "code",
   "execution_count": 835,
   "id": "374136ba",
   "metadata": {},
   "outputs": [],
   "source": [
    "df = df.reset_index(drop = True)"
   ]
  },
  {
   "cell_type": "code",
   "execution_count": 836,
   "id": "3a4b10ae",
   "metadata": {
    "scrolled": true
   },
   "outputs": [
    {
     "data": {
      "text/html": [
       "<div>\n",
       "<style scoped>\n",
       "    .dataframe tbody tr th:only-of-type {\n",
       "        vertical-align: middle;\n",
       "    }\n",
       "\n",
       "    .dataframe tbody tr th {\n",
       "        vertical-align: top;\n",
       "    }\n",
       "\n",
       "    .dataframe thead th {\n",
       "        text-align: right;\n",
       "    }\n",
       "</style>\n",
       "<table border=\"1\" class=\"dataframe\">\n",
       "  <thead>\n",
       "    <tr style=\"text-align: right;\">\n",
       "      <th></th>\n",
       "      <th>Precio</th>\n",
       "      <th>Anio</th>\n",
       "      <th>Kilometros</th>\n",
       "      <th>Motor</th>\n",
       "      <th>Puertas</th>\n",
       "    </tr>\n",
       "  </thead>\n",
       "  <tbody>\n",
       "    <tr>\n",
       "      <th>count</th>\n",
       "      <td>3.500500e+04</td>\n",
       "      <td>35005.000000</td>\n",
       "      <td>3.500500e+04</td>\n",
       "      <td>28373.000000</td>\n",
       "      <td>35005.000000</td>\n",
       "    </tr>\n",
       "    <tr>\n",
       "      <th>mean</th>\n",
       "      <td>5.947940e+07</td>\n",
       "      <td>2012.970661</td>\n",
       "      <td>8.615174e+04</td>\n",
       "      <td>2103.128890</td>\n",
       "      <td>4.265334</td>\n",
       "    </tr>\n",
       "    <tr>\n",
       "      <th>std</th>\n",
       "      <td>3.997845e+07</td>\n",
       "      <td>8.039592</td>\n",
       "      <td>1.506533e+05</td>\n",
       "      <td>915.453288</td>\n",
       "      <td>0.797873</td>\n",
       "    </tr>\n",
       "    <tr>\n",
       "      <th>min</th>\n",
       "      <td>3.100000e+06</td>\n",
       "      <td>1946.000000</td>\n",
       "      <td>0.000000e+00</td>\n",
       "      <td>16.000000</td>\n",
       "      <td>1.000000</td>\n",
       "    </tr>\n",
       "    <tr>\n",
       "      <th>25%</th>\n",
       "      <td>3.100000e+07</td>\n",
       "      <td>2011.000000</td>\n",
       "      <td>2.811100e+04</td>\n",
       "      <td>1600.000000</td>\n",
       "      <td>4.000000</td>\n",
       "    </tr>\n",
       "    <tr>\n",
       "      <th>50%</th>\n",
       "      <td>4.790000e+07</td>\n",
       "      <td>2015.000000</td>\n",
       "      <td>6.670000e+04</td>\n",
       "      <td>2000.000000</td>\n",
       "      <td>4.000000</td>\n",
       "    </tr>\n",
       "    <tr>\n",
       "      <th>75%</th>\n",
       "      <td>7.880000e+07</td>\n",
       "      <td>2018.000000</td>\n",
       "      <td>1.110000e+05</td>\n",
       "      <td>2400.000000</td>\n",
       "      <td>5.000000</td>\n",
       "    </tr>\n",
       "    <tr>\n",
       "      <th>max</th>\n",
       "      <td>2.040000e+08</td>\n",
       "      <td>2022.000000</td>\n",
       "      <td>1.111111e+07</td>\n",
       "      <td>9990.000000</td>\n",
       "      <td>5.000000</td>\n",
       "    </tr>\n",
       "  </tbody>\n",
       "</table>\n",
       "</div>"
      ],
      "text/plain": [
       "             Precio          Anio    Kilometros         Motor       Puertas\n",
       "count  3.500500e+04  35005.000000  3.500500e+04  28373.000000  35005.000000\n",
       "mean   5.947940e+07   2012.970661  8.615174e+04   2103.128890      4.265334\n",
       "std    3.997845e+07      8.039592  1.506533e+05    915.453288      0.797873\n",
       "min    3.100000e+06   1946.000000  0.000000e+00     16.000000      1.000000\n",
       "25%    3.100000e+07   2011.000000  2.811100e+04   1600.000000      4.000000\n",
       "50%    4.790000e+07   2015.000000  6.670000e+04   2000.000000      4.000000\n",
       "75%    7.880000e+07   2018.000000  1.110000e+05   2400.000000      5.000000\n",
       "max    2.040000e+08   2022.000000  1.111111e+07   9990.000000      5.000000"
      ]
     },
     "execution_count": 836,
     "metadata": {},
     "output_type": "execute_result"
    }
   ],
   "source": [
    "df.describe()"
   ]
  },
  {
   "cell_type": "code",
   "execution_count": 837,
   "id": "bd16ace9",
   "metadata": {
    "scrolled": true
   },
   "outputs": [
    {
     "name": "stdout",
     "output_type": "stream",
     "text": [
      "<class 'pandas.core.frame.DataFrame'>\n",
      "RangeIndex: 35005 entries, 0 to 35004\n",
      "Data columns (total 13 columns):\n",
      " #   Column               Non-Null Count  Dtype \n",
      "---  ------               --------------  ----- \n",
      " 0   Titulo               35005 non-null  object\n",
      " 1   Marca                35005 non-null  object\n",
      " 2   Modelo               35005 non-null  object\n",
      " 3   Precio               35005 non-null  int64 \n",
      " 4   Anio                 35005 non-null  int64 \n",
      " 5   Kilometros           35005 non-null  int64 \n",
      " 6   Color                35005 non-null  object\n",
      " 7   Transmision          34985 non-null  object\n",
      " 8   Tipo de combustible  35005 non-null  object\n",
      " 9   Tipo de carroceria   21277 non-null  object\n",
      " 10  Motor                28373 non-null  Int64 \n",
      " 11  Puertas              35005 non-null  Int64 \n",
      " 12  Img                  35005 non-null  object\n",
      "dtypes: Int64(2), int64(3), object(8)\n",
      "memory usage: 3.5+ MB\n"
     ]
    }
   ],
   "source": [
    "df.info()"
   ]
  },
  {
   "cell_type": "code",
   "execution_count": 838,
   "id": "7b1d9fce",
   "metadata": {
    "scrolled": false
   },
   "outputs": [
    {
     "data": {
      "text/html": [
       "<div>\n",
       "<style scoped>\n",
       "    .dataframe tbody tr th:only-of-type {\n",
       "        vertical-align: middle;\n",
       "    }\n",
       "\n",
       "    .dataframe tbody tr th {\n",
       "        vertical-align: top;\n",
       "    }\n",
       "\n",
       "    .dataframe thead th {\n",
       "        text-align: right;\n",
       "    }\n",
       "</style>\n",
       "<table border=\"1\" class=\"dataframe\">\n",
       "  <thead>\n",
       "    <tr style=\"text-align: right;\">\n",
       "      <th></th>\n",
       "      <th>Titulo</th>\n",
       "      <th>Marca</th>\n",
       "      <th>Modelo</th>\n",
       "      <th>Precio</th>\n",
       "      <th>Anio</th>\n",
       "      <th>Kilometros</th>\n",
       "      <th>Color</th>\n",
       "      <th>Transmision</th>\n",
       "      <th>Tipo de combustible</th>\n",
       "      <th>Tipo de carroceria</th>\n",
       "      <th>Motor</th>\n",
       "      <th>Puertas</th>\n",
       "      <th>Img</th>\n",
       "    </tr>\n",
       "  </thead>\n",
       "  <tbody>\n",
       "    <tr>\n",
       "      <th>22538</th>\n",
       "      <td>Mercedes-benz V - Class De Lujo</td>\n",
       "      <td>Mercedes-Benz</td>\n",
       "      <td>Mini Van</td>\n",
       "      <td>204000000</td>\n",
       "      <td>2020</td>\n",
       "      <td>14000</td>\n",
       "      <td>Negro</td>\n",
       "      <td>Automática</td>\n",
       "      <td>Diesel</td>\n",
       "      <td>Minivan</td>\n",
       "      <td>&lt;NA&gt;</td>\n",
       "      <td>5</td>\n",
       "      <td>https://http2.mlstatic.com/D_NQ_NP_832813-MCO4...</td>\n",
       "    </tr>\n",
       "    <tr>\n",
       "      <th>32538</th>\n",
       "      <td>BMW X5</td>\n",
       "      <td>BMW</td>\n",
       "      <td>X5</td>\n",
       "      <td>204000000</td>\n",
       "      <td>2020</td>\n",
       "      <td>16000</td>\n",
       "      <td>No Disponible</td>\n",
       "      <td>0</td>\n",
       "      <td>Gasolina</td>\n",
       "      <td>NaN</td>\n",
       "      <td>&lt;NA&gt;</td>\n",
       "      <td>4</td>\n",
       "      <td>/static/media/cy_img_nodisponible@3x.48afd719.jpg</td>\n",
       "    </tr>\n",
       "    <tr>\n",
       "      <th>26178</th>\n",
       "      <td>Chevrolet Camaro SS Six</td>\n",
       "      <td>Chevrolet</td>\n",
       "      <td>Camaro</td>\n",
       "      <td>204000000</td>\n",
       "      <td>2018</td>\n",
       "      <td>100</td>\n",
       "      <td>No Disponible</td>\n",
       "      <td>Mecánica</td>\n",
       "      <td>Gasolina</td>\n",
       "      <td>NaN</td>\n",
       "      <td>&lt;NA&gt;</td>\n",
       "      <td>4</td>\n",
       "      <td>/static/media/cy_img_nodisponible@3x.48afd719.jpg</td>\n",
       "    </tr>\n",
       "    <tr>\n",
       "      <th>23099</th>\n",
       "      <td>Land Rover Evoque</td>\n",
       "      <td>Land Rover</td>\n",
       "      <td>Evoque</td>\n",
       "      <td>203900000</td>\n",
       "      <td>2020</td>\n",
       "      <td>8399</td>\n",
       "      <td>Plateado</td>\n",
       "      <td>Automática</td>\n",
       "      <td>Gasolina</td>\n",
       "      <td>SUV</td>\n",
       "      <td>&lt;NA&gt;</td>\n",
       "      <td>5</td>\n",
       "      <td>https://http2.mlstatic.com/D_NQ_NP_915467-MCO4...</td>\n",
       "    </tr>\n",
       "    <tr>\n",
       "      <th>24427</th>\n",
       "      <td>Volvo Xc40 T5 Recharge</td>\n",
       "      <td>Volvo</td>\n",
       "      <td>XC40</td>\n",
       "      <td>203900000</td>\n",
       "      <td>2021</td>\n",
       "      <td>5400</td>\n",
       "      <td>Plateado</td>\n",
       "      <td>Automática</td>\n",
       "      <td>Híbrido</td>\n",
       "      <td>SUV</td>\n",
       "      <td>&lt;NA&gt;</td>\n",
       "      <td>5</td>\n",
       "      <td>https://http2.mlstatic.com/D_NQ_NP_950598-MCO4...</td>\n",
       "    </tr>\n",
       "  </tbody>\n",
       "</table>\n",
       "</div>"
      ],
      "text/plain": [
       "                                Titulo          Marca    Modelo     Precio  \\\n",
       "22538  Mercedes-benz V - Class De Lujo  Mercedes-Benz  Mini Van  204000000   \n",
       "32538                          BMW X5             BMW        X5  204000000   \n",
       "26178          Chevrolet Camaro SS Six      Chevrolet    Camaro  204000000   \n",
       "23099               Land Rover Evoque      Land Rover    Evoque  203900000   \n",
       "24427           Volvo Xc40 T5 Recharge          Volvo      XC40  203900000   \n",
       "\n",
       "       Anio  Kilometros          Color Transmision Tipo de combustible  \\\n",
       "22538  2020       14000          Negro  Automática              Diesel   \n",
       "32538  2020       16000  No Disponible           0            Gasolina   \n",
       "26178  2018         100  No Disponible    Mecánica            Gasolina   \n",
       "23099  2020        8399       Plateado  Automática            Gasolina   \n",
       "24427  2021        5400       Plateado  Automática             Híbrido   \n",
       "\n",
       "      Tipo de carroceria  Motor  Puertas  \\\n",
       "22538            Minivan   <NA>        5   \n",
       "32538                NaN   <NA>        4   \n",
       "26178                NaN   <NA>        4   \n",
       "23099                SUV   <NA>        5   \n",
       "24427                SUV   <NA>        5   \n",
       "\n",
       "                                                     Img  \n",
       "22538  https://http2.mlstatic.com/D_NQ_NP_832813-MCO4...  \n",
       "32538  /static/media/cy_img_nodisponible@3x.48afd719.jpg  \n",
       "26178  /static/media/cy_img_nodisponible@3x.48afd719.jpg  \n",
       "23099  https://http2.mlstatic.com/D_NQ_NP_915467-MCO4...  \n",
       "24427  https://http2.mlstatic.com/D_NQ_NP_950598-MCO4...  "
      ]
     },
     "execution_count": 838,
     "metadata": {},
     "output_type": "execute_result"
    }
   ],
   "source": [
    "temp = df.sort_values(by = ['Precio'], ascending = False)\n",
    "temp.head()"
   ]
  },
  {
   "cell_type": "code",
   "execution_count": 839,
   "id": "8c687af9",
   "metadata": {
    "scrolled": false
   },
   "outputs": [
    {
     "data": {
      "text/html": [
       "<div>\n",
       "<style scoped>\n",
       "    .dataframe tbody tr th:only-of-type {\n",
       "        vertical-align: middle;\n",
       "    }\n",
       "\n",
       "    .dataframe tbody tr th {\n",
       "        vertical-align: top;\n",
       "    }\n",
       "\n",
       "    .dataframe thead th {\n",
       "        text-align: right;\n",
       "    }\n",
       "</style>\n",
       "<table border=\"1\" class=\"dataframe\">\n",
       "  <thead>\n",
       "    <tr style=\"text-align: right;\">\n",
       "      <th></th>\n",
       "      <th>Titulo</th>\n",
       "      <th>Marca</th>\n",
       "      <th>Modelo</th>\n",
       "      <th>Precio</th>\n",
       "      <th>Anio</th>\n",
       "      <th>Kilometros</th>\n",
       "      <th>Color</th>\n",
       "      <th>Transmision</th>\n",
       "      <th>Tipo de combustible</th>\n",
       "      <th>Tipo de carroceria</th>\n",
       "      <th>Motor</th>\n",
       "      <th>Puertas</th>\n",
       "      <th>Img</th>\n",
       "    </tr>\n",
       "  </thead>\n",
       "  <tbody>\n",
       "    <tr>\n",
       "      <th>1366</th>\n",
       "      <td>Renault R19 Rt 1.8</td>\n",
       "      <td>Renault</td>\n",
       "      <td>R19</td>\n",
       "      <td>3100000</td>\n",
       "      <td>1996</td>\n",
       "      <td>100000</td>\n",
       "      <td>No Disponible</td>\n",
       "      <td>Mecánica</td>\n",
       "      <td>Gasolina</td>\n",
       "      <td>Sedán</td>\n",
       "      <td>1800</td>\n",
       "      <td>4</td>\n",
       "      <td>https://http2.mlstatic.com/D_NQ_NP_624147-MCO4...</td>\n",
       "    </tr>\n",
       "    <tr>\n",
       "      <th>418</th>\n",
       "      <td>Mazda 626 1.8 L</td>\n",
       "      <td>Mazda</td>\n",
       "      <td>626</td>\n",
       "      <td>3200000</td>\n",
       "      <td>1986</td>\n",
       "      <td>12000</td>\n",
       "      <td>No Disponible</td>\n",
       "      <td>Mecánica</td>\n",
       "      <td>Gasolina</td>\n",
       "      <td>Sedán</td>\n",
       "      <td>1800</td>\n",
       "      <td>4</td>\n",
       "      <td>https://http2.mlstatic.com/D_NQ_NP_856780-MCO4...</td>\n",
       "    </tr>\n",
       "    <tr>\n",
       "      <th>391</th>\n",
       "      <td>Mazda 323 1.3 Hb</td>\n",
       "      <td>Mazda</td>\n",
       "      <td>323</td>\n",
       "      <td>3500000</td>\n",
       "      <td>1985</td>\n",
       "      <td>999</td>\n",
       "      <td>Violeta</td>\n",
       "      <td>Mecánica</td>\n",
       "      <td>Gasolina</td>\n",
       "      <td>Hatchback</td>\n",
       "      <td>1300</td>\n",
       "      <td>5</td>\n",
       "      <td>https://http2.mlstatic.com/D_NQ_NP_943444-MCO4...</td>\n",
       "    </tr>\n",
       "    <tr>\n",
       "      <th>25179</th>\n",
       "      <td>Mazda 323</td>\n",
       "      <td>Mazda</td>\n",
       "      <td>323</td>\n",
       "      <td>3500000</td>\n",
       "      <td>1984</td>\n",
       "      <td>51000</td>\n",
       "      <td>No Disponible</td>\n",
       "      <td>Mecánica</td>\n",
       "      <td>Gasolina</td>\n",
       "      <td>NaN</td>\n",
       "      <td>1400</td>\n",
       "      <td>4</td>\n",
       "      <td>/static/media/cy_img_nodisponible@3x.48afd719.jpg</td>\n",
       "    </tr>\n",
       "    <tr>\n",
       "      <th>26597</th>\n",
       "      <td>Renault r12</td>\n",
       "      <td>Renault</td>\n",
       "      <td>r12</td>\n",
       "      <td>3500000</td>\n",
       "      <td>1977</td>\n",
       "      <td>150000</td>\n",
       "      <td>Blanco</td>\n",
       "      <td>Mecánica</td>\n",
       "      <td>Gasolina</td>\n",
       "      <td>NaN</td>\n",
       "      <td>&lt;NA&gt;</td>\n",
       "      <td>4</td>\n",
       "      <td>https://www.carroya.com/web/images/vehiculos/2...</td>\n",
       "    </tr>\n",
       "  </tbody>\n",
       "</table>\n",
       "</div>"
      ],
      "text/plain": [
       "                   Titulo    Marca Modelo   Precio  Anio  Kilometros  \\\n",
       "1366   Renault R19 Rt 1.8  Renault    R19  3100000  1996      100000   \n",
       "418       Mazda 626 1.8 L    Mazda    626  3200000  1986       12000   \n",
       "391      Mazda 323 1.3 Hb    Mazda    323  3500000  1985         999   \n",
       "25179          Mazda 323     Mazda    323  3500000  1984       51000   \n",
       "26597        Renault r12   Renault    r12  3500000  1977      150000   \n",
       "\n",
       "               Color Transmision Tipo de combustible Tipo de carroceria  \\\n",
       "1366   No Disponible    Mecánica            Gasolina              Sedán   \n",
       "418    No Disponible    Mecánica            Gasolina              Sedán   \n",
       "391          Violeta    Mecánica            Gasolina          Hatchback   \n",
       "25179  No Disponible    Mecánica            Gasolina                NaN   \n",
       "26597         Blanco    Mecánica            Gasolina                NaN   \n",
       "\n",
       "       Motor  Puertas                                                Img  \n",
       "1366    1800        4  https://http2.mlstatic.com/D_NQ_NP_624147-MCO4...  \n",
       "418     1800        4  https://http2.mlstatic.com/D_NQ_NP_856780-MCO4...  \n",
       "391     1300        5  https://http2.mlstatic.com/D_NQ_NP_943444-MCO4...  \n",
       "25179   1400        4  /static/media/cy_img_nodisponible@3x.48afd719.jpg  \n",
       "26597   <NA>        4  https://www.carroya.com/web/images/vehiculos/2...  "
      ]
     },
     "execution_count": 839,
     "metadata": {},
     "output_type": "execute_result"
    }
   ],
   "source": [
    "temp = df.sort_values(by = ['Precio'], ascending = True)\n",
    "temp.head()"
   ]
  },
  {
   "cell_type": "code",
   "execution_count": 840,
   "id": "07cce97e",
   "metadata": {},
   "outputs": [
    {
     "name": "stdout",
     "output_type": "stream",
     "text": [
      "Titulo: 11760\n",
      "Marca: 57\n",
      "Modelo: 798\n",
      "Color: 62\n",
      "Transmision: 7\n",
      "Tipo de combustible: 6\n"
     ]
    }
   ],
   "source": [
    "def columnCategories(col):\n",
    "    print(col + \": \" + str(df[col].nunique()))\n",
    "\n",
    "columnCategories(\"Titulo\")\n",
    "columnCategories(\"Marca\")\n",
    "columnCategories(\"Modelo\")\n",
    "columnCategories(\"Color\")\n",
    "columnCategories(\"Transmision\")\n",
    "columnCategories(\"Tipo de combustible\")"
   ]
  },
  {
   "cell_type": "markdown",
   "id": "21914e3e",
   "metadata": {},
   "source": [
    "## Visualization"
   ]
  },
  {
   "cell_type": "code",
   "execution_count": 841,
   "id": "814d3efc",
   "metadata": {},
   "outputs": [
    {
     "data": {
      "image/png": "[encoded data removed]",
      "text/plain": [
       "<Figure size 720x360 with 2 Axes>"
      ]
     },
     "metadata": {},
     "output_type": "display_data"
    }
   ],
   "source": [
    "sns.set_theme(style=\"white\")\n",
    "fig, axs = plt.subplots(figsize = (10,5))\n",
    "fig.suptitle('CORRELACIÓN DE LAS VARIABLES', fontsize=20)\n",
    "axs.tick_params(axis = 'y', labelsize = 14, pad = 5)\n",
    "axs.tick_params(axis = 'x', labelsize = 14, pad = 5)\n",
    "sns.set(font_scale = 1.1)\n",
    "cmap = sns.diverging_palette(250, 15, center=\"dark\")\n",
    "\n",
    "corr = df.corr()\n",
    "mask = np.triu(np.ones_like(corr, dtype=bool))\n",
    "sns.heatmap(corr, mask=mask, cmap=cmap, annot = True)\n",
    "\n",
    "plt.show()"
   ]
  },
  {
   "cell_type": "code",
   "execution_count": 842,
   "id": "f66dad4c",
   "metadata": {},
   "outputs": [
    {
     "data": {
      "image/png": "[encoded data removed]",
      "text/plain": [
       "<Figure size 720x720 with 3 Axes>"
      ]
     },
     "metadata": {},
     "output_type": "display_data"
    }
   ],
   "source": [
    "sns.set_theme(style=\"white\")\n",
    "plot = sns.jointplot(data = df, x = 'Anio', y = 'Precio', color='b', kind = 'reg', line_kws={'color': 'red'}, scatter_kws={'s': 2})\n",
    "\n",
    "plot.fig.suptitle('PRECIO vs AÑO', fontsize=20)\n",
    "plot.fig.tight_layout()\n",
    "plot.fig.subplots_adjust(top=0.95)\n",
    "plot.fig.set_size_inches(10,10)\n",
    "\n",
    "plot.set_axis_labels('Anio', 'Precio', fontsize=14)\n",
    "plot.ax_marg_y.set_ylim(bottom=0)\n",
    "\n",
    "plt.show()"
   ]
  },
  {
   "cell_type": "code",
   "execution_count": 843,
   "id": "324fa869",
   "metadata": {},
   "outputs": [
    {
     "data": {
      "image/png": "[encoded data removed]",
      "text/plain": [
       "<Figure size 850.425x360 with 6 Axes>"
      ]
     },
     "metadata": {},
     "output_type": "display_data"
    }
   ],
   "source": [
    "x_vars = [\"Precio\", \"Anio\", \"Kilometros\", \"Motor\",\"Puertas\"]\n",
    "y_vars = [\"Precio\"]\n",
    "\n",
    "graph = sns.PairGrid(data=df, hue='Tipo de combustible', x_vars=x_vars, y_vars=y_vars, palette=\"Set2\", diag_sharey=True)\n",
    "graph.fig.set_size_inches(10,5)\n",
    "\n",
    "graph.map_offdiag(sns.scatterplot, s=10)\n",
    "graph.map_diag(sns.histplot) \n",
    "\n",
    "graph.add_legend()\n",
    "\n",
    "plt.show()"
   ]
  },
  {
   "cell_type": "code",
   "execution_count": 844,
   "id": "b61e2cf8",
   "metadata": {},
   "outputs": [
    {
     "name": "stdout",
     "output_type": "stream",
     "text": [
      "Chevrolet      5145\n",
      "Ford           2733\n",
      "Kia            2155\n",
      "Mazda          2539\n",
      "Nissan         2499\n",
      "Others        11401\n",
      "Renault        4057\n",
      "Toyota         2438\n",
      "Volkswagen     2038\n",
      "Name: Marca, dtype: int64\n"
     ]
    },
    {
     "data": {
      "image/png": "[encoded data removed]",
      "text/plain": [
       "<Figure size 720x720 with 1 Axes>"
      ]
     },
     "metadata": {},
     "output_type": "display_data"
    }
   ],
   "source": [
    "lista_marcas = df['Marca'].unique()\n",
    "conteo_marcas = df['Marca'].value_counts()[:8]\n",
    "other = pd.Series([df['Marca'].value_counts().sum() - conteo_marcas.sum()], index=['Others'], name='Marca')\n",
    "\n",
    "conteo_marcas = pd.concat([conteo_marcas, other], axis=0)\n",
    "conteo_marcas = conteo_marcas.sort_index()\n",
    "\n",
    "print(conteo_marcas)\n",
    "\n",
    "conteo_marcas.plot(kind='pie', figsize=(10, 10), autopct='%1.1f%%', startangle=90, fontsize=14, cmap='Pastel1')\n",
    "\n",
    "plt.title('CANTIDAD DE MARCAS', fontsize=20)\n",
    "plt.ylabel('')\n",
    "\n",
    "plt.show()"
   ]
  },
  {
   "cell_type": "code",
   "execution_count": 845,
   "id": "417f6482",
   "metadata": {
    "scrolled": true
   },
   "outputs": [
    {
     "name": "stderr",
     "output_type": "stream",
     "text": [
      "<ipython-input-845-5e4920501b10>:5: SettingWithCopyWarning: \n",
      "A value is trying to be set on a copy of a slice from a DataFrame\n",
      "\n",
      "See the caveats in the documentation: https://pandas.pydata.org/pandas-docs/stable/user_guide/indexing.html#returning-a-view-versus-a-copy\n",
      "  dfm.Marca[~dfm.Marca.str.contains('|'.join(list(conteo_marcas.index)))] = 0\n"
     ]
    },
    {
     "data": {
      "text/html": [
       "<div>\n",
       "<style scoped>\n",
       "    .dataframe tbody tr th:only-of-type {\n",
       "        vertical-align: middle;\n",
       "    }\n",
       "\n",
       "    .dataframe tbody tr th {\n",
       "        vertical-align: top;\n",
       "    }\n",
       "\n",
       "    .dataframe thead th {\n",
       "        text-align: right;\n",
       "    }\n",
       "</style>\n",
       "<table border=\"1\" class=\"dataframe\">\n",
       "  <thead>\n",
       "    <tr style=\"text-align: right;\">\n",
       "      <th></th>\n",
       "      <th>Titulo</th>\n",
       "      <th>Marca</th>\n",
       "      <th>Modelo</th>\n",
       "      <th>Precio</th>\n",
       "      <th>Anio</th>\n",
       "      <th>Kilometros</th>\n",
       "      <th>Color</th>\n",
       "      <th>Transmision</th>\n",
       "      <th>Tipo de combustible</th>\n",
       "      <th>Tipo de carroceria</th>\n",
       "      <th>Motor</th>\n",
       "      <th>Puertas</th>\n",
       "      <th>Img</th>\n",
       "    </tr>\n",
       "  </thead>\n",
       "  <tbody>\n",
       "    <tr>\n",
       "      <th>29854</th>\n",
       "      <td>Chevrolet Sail 1.4 LS Mecanico</td>\n",
       "      <td>Chevrolet</td>\n",
       "      <td>Sail</td>\n",
       "      <td>23700000</td>\n",
       "      <td>2016</td>\n",
       "      <td>39000</td>\n",
       "      <td>Negro</td>\n",
       "      <td>Mecánica</td>\n",
       "      <td>Gasolina</td>\n",
       "      <td>NaN</td>\n",
       "      <td>1399</td>\n",
       "      <td>4</td>\n",
       "      <td>https://www.carroya.com/web/images/vehiculos/1...</td>\n",
       "    </tr>\n",
       "    <tr>\n",
       "      <th>26857</th>\n",
       "      <td>Chevrolet Aveo 1.6 5 Puertas Mecanico Full Equipo</td>\n",
       "      <td>Chevrolet</td>\n",
       "      <td>Aveo</td>\n",
       "      <td>21900000</td>\n",
       "      <td>2013</td>\n",
       "      <td>130000</td>\n",
       "      <td>Gris</td>\n",
       "      <td>Mecánica</td>\n",
       "      <td>Gasolina</td>\n",
       "      <td>NaN</td>\n",
       "      <td>1600</td>\n",
       "      <td>4</td>\n",
       "      <td>https://www.carroya.com/web/images/vehiculos/2...</td>\n",
       "    </tr>\n",
       "    <tr>\n",
       "      <th>23535</th>\n",
       "      <td>Chevrolet Captiva Premier</td>\n",
       "      <td>Chevrolet</td>\n",
       "      <td>Captiva</td>\n",
       "      <td>95000000</td>\n",
       "      <td>2020</td>\n",
       "      <td>3600</td>\n",
       "      <td>No Disponible</td>\n",
       "      <td>Automática</td>\n",
       "      <td>Gasolina</td>\n",
       "      <td>NaN</td>\n",
       "      <td>&lt;NA&gt;</td>\n",
       "      <td>5</td>\n",
       "      <td>https://http2.mlstatic.com/D_NQ_NP_665964-MCO4...</td>\n",
       "    </tr>\n",
       "    <tr>\n",
       "      <th>10526</th>\n",
       "      <td>Chevrolet Luv D-max 3.0 Ls</td>\n",
       "      <td>Chevrolet</td>\n",
       "      <td>LUV D-MAX</td>\n",
       "      <td>55800000</td>\n",
       "      <td>2013</td>\n",
       "      <td>103331</td>\n",
       "      <td>Blanco</td>\n",
       "      <td>Mecánica</td>\n",
       "      <td>Diesel</td>\n",
       "      <td>NaN</td>\n",
       "      <td>&lt;NA&gt;</td>\n",
       "      <td>4</td>\n",
       "      <td>https://http2.mlstatic.com/D_NQ_NP_920793-MCO4...</td>\n",
       "    </tr>\n",
       "    <tr>\n",
       "      <th>10527</th>\n",
       "      <td>Chevrolet Spark Gt 1200cc Mt Aa</td>\n",
       "      <td>Chevrolet</td>\n",
       "      <td>Spark GT</td>\n",
       "      <td>25500000</td>\n",
       "      <td>2013</td>\n",
       "      <td>78000</td>\n",
       "      <td>Rojo</td>\n",
       "      <td>Mecánica</td>\n",
       "      <td>Gasolina</td>\n",
       "      <td>Hatchback</td>\n",
       "      <td>&lt;NA&gt;</td>\n",
       "      <td>5</td>\n",
       "      <td>https://http2.mlstatic.com/D_NQ_NP_745945-MCO4...</td>\n",
       "    </tr>\n",
       "  </tbody>\n",
       "</table>\n",
       "</div>"
      ],
      "text/plain": [
       "                                                  Titulo      Marca  \\\n",
       "29854                     Chevrolet Sail 1.4 LS Mecanico  Chevrolet   \n",
       "26857  Chevrolet Aveo 1.6 5 Puertas Mecanico Full Equipo  Chevrolet   \n",
       "23535                          Chevrolet Captiva Premier  Chevrolet   \n",
       "10526                         Chevrolet Luv D-max 3.0 Ls  Chevrolet   \n",
       "10527                    Chevrolet Spark Gt 1200cc Mt Aa  Chevrolet   \n",
       "\n",
       "          Modelo    Precio  Anio  Kilometros          Color Transmision  \\\n",
       "29854       Sail  23700000  2016       39000          Negro    Mecánica   \n",
       "26857       Aveo  21900000  2013      130000           Gris    Mecánica   \n",
       "23535    Captiva  95000000  2020        3600  No Disponible  Automática   \n",
       "10526  LUV D-MAX  55800000  2013      103331         Blanco    Mecánica   \n",
       "10527   Spark GT  25500000  2013       78000           Rojo    Mecánica   \n",
       "\n",
       "      Tipo de combustible Tipo de carroceria  Motor  Puertas  \\\n",
       "29854            Gasolina                NaN   1399        4   \n",
       "26857            Gasolina                NaN   1600        4   \n",
       "23535            Gasolina                NaN   <NA>        5   \n",
       "10526              Diesel                NaN   <NA>        4   \n",
       "10527            Gasolina          Hatchback   <NA>        5   \n",
       "\n",
       "                                                     Img  \n",
       "29854  https://www.carroya.com/web/images/vehiculos/1...  \n",
       "26857  https://www.carroya.com/web/images/vehiculos/2...  \n",
       "23535  https://http2.mlstatic.com/D_NQ_NP_665964-MCO4...  \n",
       "10526  https://http2.mlstatic.com/D_NQ_NP_920793-MCO4...  \n",
       "10527  https://http2.mlstatic.com/D_NQ_NP_745945-MCO4...  "
      ]
     },
     "execution_count": 845,
     "metadata": {},
     "output_type": "execute_result"
    },
    {
     "data": {
      "image/png": "[encoded data removed]",
      "text/plain": [
       "<Figure size 320.85x1296 with 6 Axes>"
      ]
     },
     "metadata": {},
     "output_type": "display_data"
    }
   ],
   "source": [
    "sns.set_theme(style=\"white\")\n",
    "\n",
    "dfm = df.copy()\n",
    "dfm_marca = dfm.Marca\n",
    "dfm.Marca[~dfm.Marca.str.contains('|'.join(list(conteo_marcas.index)))] = 0\n",
    "dfm['Marca'].replace({0:'Others'}, inplace=True)\n",
    "dfm = dfm.sort_values(by=['Marca'])\n",
    "\n",
    "sns.set_palette(\"Pastel1\")\n",
    "\n",
    "sns.displot(\n",
    "    dfm, x=\"Precio\", row=\"Tipo de combustible\", hue='Marca',\n",
    "    height=3,\n",
    "    facet_kws=dict(margin_titles=True),\n",
    "    kind=\"kde\"\n",
    ")\n",
    "dfm.head()"
   ]
  },
  {
   "cell_type": "code",
   "execution_count": null,
   "id": "93260cca",
   "metadata": {},
   "outputs": [],
   "source": []
  },
  {
   "cell_type": "markdown",
   "id": "34bbdc40",
   "metadata": {},
   "source": [
    "## Generating the CSV file"
   ]
  },
  {
   "cell_type": "code",
   "execution_count": 846,
   "id": "70a8d41c",
   "metadata": {},
   "outputs": [],
   "source": [
    "#df.to_csv('full_data.csv')"
   ]
  }
 ],
 "metadata": {
  "kernelspec": {
   "display_name": "Python 3",
   "language": "python",
   "name": "python3"
  },
  "language_info": {
   "codemirror_mode": {
    "name": "ipython",
    "version": 3
   },
   "file_extension": ".py",
   "mimetype": "text/x-python",
   "name": "python",
   "nbconvert_exporter": "python",
   "pygments_lexer": "ipython3",
   "version": "3.8.8"
  }
 },
 "nbformat": 4,
 "nbformat_minor": 5
}
